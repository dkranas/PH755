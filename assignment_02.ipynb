{
 "cells": [
  {
   "cell_type": "markdown",
   "metadata": {},
   "source": [
    "# Assignment 2 : Numerical Integration "
   ]
  },
  {
   "cell_type": "markdown",
   "metadata": {},
   "source": [
    "### Debye's Theory of Solids\n",
    "Debye's theory of solids gives the heat capacity of a solid at temperature T to be \n",
    "$$\n",
    "C_V = 9\\, V\\,\\rho\\, k_B\\, \\left( \\frac{T}{\\theta_D}\\right)^3\\, \\int_{0}^{\\theta_D/T}\\, \\frac{x^4\\, e^x}{(e^x\\, -\\, 1)^2}\\, {\\rm d}\\, x\n",
    "$$\n",
    "where $V$ is the volume of the solid, $\\rho$ is the number density of atoms, $k_B$ is the Boltzman's constant and $\\theta_D$ is the Debye temperature, a property that depends on their density and the speed of sound.\n",
    "\n",
    "a. Write a Python function `Cv(T)` to calculate $C_V$ for a specific value of temperature $T$ for a sample consisting of $1000$ cm$^3$ of solid aluminium, which has a number density of $\\rho\\, =\\, 6.022 \\times 10^{28}$ m$^{-3}$ and a Debye temperature of $\\theta_D\\, =\\, 428$K. Use Gaussian quadrature to evaluate the integral, with $N\\, =\\, 50$ sample points. \n",
    "\n",
    "b. Use your function to make a graph of the heat capacity as a function of temperature from $T\\, =\\, 5$K to $T\\, =\\, 500$K. Label the graph properly."
   ]
  },
  {
   "cell_type": "markdown",
   "metadata": {},
   "source": [
    "**Additional information :**\n",
    "\n",
    "Weights and sample points for Gaussian quadrature can be obtained using the code \"gaussxw.py\". To use this code, download it and place it in the same folder as your notebook. Then, in your notebook import the function `gaussxw` as follows:\n",
    "```\n",
    "    from gaussxw import gaussxw\n",
    "    x,w = gaussxw(N)\n",
    "```\n",
    "This will give you an array x of N sample points and another array of corresponding weights w."
   ]
  },
  {
   "cell_type": "code",
   "execution_count": null,
   "metadata": {},
   "outputs": [],
   "source": []
  },
  {
   "cell_type": "markdown",
   "metadata": {},
   "source": [
    "### The Stefan-Boltzmann Constant\n",
    "\n",
    "The Planck theory of thermal radiation tells us that in the (angular) frequency interval $\\omega$ to $\\omega\\, +\\, {\\rm d}\\omega$, a black body of unit area radiates electromagnetically an amount of thermal energy per second equal to $I(\\omega) {\\rm d}\\omega$, where\n",
    "$$\n",
    "I(\\omega)\\, =\\, \\frac{\\hbar}{4\\,\\pi^2\\,c^2}\\, \\frac{\\omega^3}{e^{\\hbar\\omega/k_B T}\\, -\\, 1} .\n",
    "$$\n",
    "Here $\\hbar$ is Planck's constat over $2\\,\\pi$, $c$ is speed of light and $k_B$ is Boltzmann's constant. \n",
    "\n",
    "a. Show that total rate at which energy is radiated by a black body per unit area, over all frequencies, is \n",
    "$$\n",
    "W\\, =\\, \\frac{k_b^4\\,T^4}{4\\,\\pi^2\\,c^2\\,\\hbar^3}\\, \\int_0^{\\infty}\\, \\frac{x^3}{e^x\\, -\\, 1}\n",
    "$$\n",
    "\n",
    "b. Write a program to evaluate the integral in this expression using Trapezoidal rule with adaptive integration. Explain the method, issues you face and the solution.\n",
    "\n",
    "c. According to Stefan's law, $W\\, =\\, \\sigma\\,T^4$. Compute Stefan-Boltzmann constant $\\sigma$ from your answer obtained above. Compare your answer with the actual value of $\\sigma$ quoted online. Compute [relative error](http://mathworld.wolfram.com/RelativeError.html) in your answer. "
   ]
  }
 ],
 "metadata": {
  "kernelspec": {
   "display_name": "Python 2",
   "language": "python",
   "name": "python2"
  },
  "language_info": {
   "codemirror_mode": {
    "name": "ipython",
    "version": 2
   },
   "file_extension": ".py",
   "mimetype": "text/x-python",
   "name": "python",
   "nbconvert_exporter": "python",
   "pygments_lexer": "ipython2",
   "version": "2.7.15"
  }
 },
 "nbformat": 4,
 "nbformat_minor": 2
}
