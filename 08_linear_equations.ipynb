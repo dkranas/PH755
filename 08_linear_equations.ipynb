{
 "cells": [
  {
   "cell_type": "markdown",
   "metadata": {},
   "source": [
    "# Solving Linear Equations\n",
    "\n",
    "Solve equations of the form\n",
    "$$\n",
    "{\\bf A}\\, {\\bf X}\\, =\\, {\\bf v}\n",
    "$$\n",
    "where ${\\bf A}$ is a $n\\, \\times\\, n$ matrix, ${\\bf X}$ is a list of $n$ variables, we are trying to solve for and ${\\bf v}$ is an $n$ dimensional array such that above expression is a short notation for\n",
    "\n",
    "$$\n",
    "A_{0,0}\\,X_0\\, +\\, ...  \\, +\\, A_{0,n-1}\\, X_n\\, =\\, v_0 \\\\\n",
    ". . . \\\\\n",
    "A_{n-1,0}\\,X_0\\, +\\, ...  \\, +\\, A_{n-1,n-1}\\, X_n\\, =\\, v_{n -1}\n",
    "$$"
   ]
  },
  {
   "cell_type": "markdown",
   "metadata": {},
   "source": [
    "### Gauss Elimination"
   ]
  },
  {
   "cell_type": "code",
   "execution_count": 2,
   "metadata": {},
   "outputs": [],
   "source": [
    "import numpy as np"
   ]
  },
  {
   "cell_type": "code",
   "execution_count": 3,
   "metadata": {},
   "outputs": [
    {
     "data": {
      "text/plain": [
       "array([[ 2.,  1.,  4.,  1.],\n",
       "       [ 3.,  4., -1., -1.],\n",
       "       [ 1., -4.,  1.,  5.],\n",
       "       [ 2., -2.,  1.,  3.]])"
      ]
     },
     "execution_count": 3,
     "metadata": {},
     "output_type": "execute_result"
    }
   ],
   "source": [
    "A=np.array([[2.,1.,4.,1.],[3.,4.,-1.,-1.],[1.,-4.,1.,5.],[2.,-2.,1.,3.]])\n",
    "A"
   ]
  },
  {
   "cell_type": "code",
   "execution_count": 4,
   "metadata": {},
   "outputs": [
    {
     "data": {
      "text/plain": [
       "array([-4.,  3.,  9.,  7.])"
      ]
     },
     "execution_count": 4,
     "metadata": {},
     "output_type": "execute_result"
    }
   ],
   "source": [
    "v=np.array([-4.,3.,9.,7.])\n",
    "v"
   ]
  },
  {
   "cell_type": "code",
   "execution_count": 19,
   "metadata": {},
   "outputs": [
    {
     "name": "stdout",
     "output_type": "stream",
     "text": [
      "Performing Gauss Elimination\n",
      "==============================\n",
      "A = [[ 1.   0.5  2.   0.5]\n",
      " [ 0.   1.  -2.8 -1. ]\n",
      " [-0.  -0.   1.  -0. ]\n",
      " [-0.  -0.  -0.   1. ]]\n",
      "v = [-2.   3.6 -2.   1. ]\n"
     ]
    }
   ],
   "source": [
    "A=np.array([[2.,1.,4.,1.],[3.,4.,-1.,-1.],[1.,-4.,1.,5.],[2.,-2.,1.,3.]])\n",
    "v=np.array([-4.,3.,9.,7.])\n",
    "N = len(v)\n",
    "print \"Performing Gauss Elimination\"\n",
    "print\"==============================\"\n",
    "for i in range(N):\n",
    "    denominator = A[i,i]\n",
    "    A[i,:]/=denominator\n",
    "    v[i]/=denominator\n",
    "    for j in range(i+1, N):\n",
    "        multiplier = A[j,i]\n",
    "        A[j,:] -= A[i,:]*multiplier\n",
    "        v[j] -= v[i]*multiplier\n",
    "print \"A =\", A\n",
    "print \"v =\", v"
   ]
  },
  {
   "cell_type": "code",
   "execution_count": null,
   "metadata": {},
   "outputs": [],
   "source": []
  },
  {
   "cell_type": "markdown",
   "metadata": {},
   "source": [
    "### Backsubstitution"
   ]
  },
  {
   "cell_type": "code",
   "execution_count": 51,
   "metadata": {},
   "outputs": [
    {
     "data": {
      "text/plain": [
       "array([0., 0., 0., 0.])"
      ]
     },
     "execution_count": 51,
     "metadata": {},
     "output_type": "execute_result"
    }
   ],
   "source": [
    "X =np.zeros(N)\n",
    "X"
   ]
  },
  {
   "cell_type": "code",
   "execution_count": 53,
   "metadata": {},
   "outputs": [
    {
     "name": "stdout",
     "output_type": "stream",
     "text": [
      "Solution is X = [ 2. -1. -2.  1.]\n"
     ]
    }
   ],
   "source": [
    "for i in range(N-1, -1, -1):\n",
    "    X[i] = v[i]\n",
    "    for j in range(i+1,N):\n",
    "        X[i] -= A[i,j]*X[j]\n",
    "print \"Solution is X =\", X"
   ]
  },
  {
   "cell_type": "markdown",
   "metadata": {},
   "source": [
    "### Pivoting\n",
    "\n",
    "If the first element in the first row is zero. Gauss elimination would not work. One has to exchange it with a row whose first element is non-zero. This is known as pivoting.\n",
    "\n",
    "In partial pivoting, we exchange the $m^{\\rm th}$ row with a row whose first element is farthest from zero. Here m refers to the row whose first element we are trying to change to 1."
   ]
  },
  {
   "cell_type": "code",
   "execution_count": 106,
   "metadata": {},
   "outputs": [
    {
     "name": "stdout",
     "output_type": "stream",
     "text": [
      "Performing Gauss Elimination with partial pivoting\n",
      "====================================================\n",
      "A = [[ 1.          1.33333333 -0.33333333 -0.33333333]\n",
      " [-0.          1.         -2.8        -1.        ]\n",
      " [-0.         -0.          1.          0.0877193 ]\n",
      " [ 0.          0.          0.          1.        ]]\n",
      "v = [ 1.         3.6       -1.9122807  1.       ]\n"
     ]
    }
   ],
   "source": [
    "A=np.array([[2.,1.,4.,1.],[3.,4.,-1.,-1.],[1.,-4.,1.,5.],[2.,-2.,1.,3.]])\n",
    "v=np.array([-4.,3.,9.,7.])\n",
    "N = len(v)\n",
    "y = np.zeros(N)\n",
    "print \"Performing Gauss Elimination with partial pivoting\"\n",
    "print\"====================================================\"\n",
    "for i in range(N):\n",
    "    y =np.copy(A[i,:])\n",
    "    w = v[i]\n",
    "    m = i\n",
    "    for k in range(i+1,N):\n",
    "        if A[m,i]< A[k,i]:\n",
    "            m = k\n",
    "    A[i,:] = np.copy(A[m,:])\n",
    "    A[m,:] = np.copy(y)\n",
    "    v[i] = v[m]\n",
    "    v[m]=w\n",
    "    denominator = A[i,i]\n",
    "    A[i,:]/=denominator\n",
    "    v[i]/=denominator\n",
    "    for j in range(i+1, N):\n",
    "        multiplier = A[j,i]\n",
    "        A[j,:] -= A[i,:]*multiplier\n",
    "        v[j] -= v[i]*multiplier\n",
    "print \"A =\", A\n",
    "print \"v =\", v"
   ]
  },
  {
   "cell_type": "code",
   "execution_count": 107,
   "metadata": {},
   "outputs": [
    {
     "data": {
      "text/plain": [
       "array([0., 0., 0., 0.])"
      ]
     },
     "execution_count": 107,
     "metadata": {},
     "output_type": "execute_result"
    }
   ],
   "source": [
    "X =np.zeros(N)\n",
    "X"
   ]
  },
  {
   "cell_type": "code",
   "execution_count": 108,
   "metadata": {},
   "outputs": [
    {
     "name": "stdout",
     "output_type": "stream",
     "text": [
      "Solution is X = [ 2. -1. -2.  1.]\n"
     ]
    }
   ],
   "source": [
    "for i in range(N-1, -1, -1):\n",
    "    X[i] = v[i]\n",
    "    for j in range(i+1,N):\n",
    "        X[i] -= A[i,j]*X[j]\n",
    "print \"Solution is X =\", X"
   ]
  },
  {
   "cell_type": "code",
   "execution_count": null,
   "metadata": {},
   "outputs": [],
   "source": []
  },
  {
   "cell_type": "code",
   "execution_count": null,
   "metadata": {},
   "outputs": [],
   "source": []
  }
 ],
 "metadata": {
  "kernelspec": {
   "display_name": "Python 2",
   "language": "python",
   "name": "python2"
  },
  "language_info": {
   "codemirror_mode": {
    "name": "ipython",
    "version": 2
   },
   "file_extension": ".py",
   "mimetype": "text/x-python",
   "name": "python",
   "nbconvert_exporter": "python",
   "pygments_lexer": "ipython2",
   "version": "2.7.15"
  }
 },
 "nbformat": 4,
 "nbformat_minor": 2
}
