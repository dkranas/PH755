{
 "cells": [
  {
   "cell_type": "markdown",
   "metadata": {},
   "source": [
    "# Graphics using Matplotlib"
   ]
  },
  {
   "cell_type": "code",
   "execution_count": null,
   "metadata": {},
   "outputs": [],
   "source": [
    "import numpy as np # import numpy to handle data\n",
    "import matplotlib.pyplot as plt # import pyplot for plotting\n",
    "%matplotlib inline"
   ]
  },
  {
   "cell_type": "code",
   "execution_count": null,
   "metadata": {},
   "outputs": [],
   "source": [
    "# Create two arrays\n",
    "a = np.array([1,2,3,4])\n",
    "b = a**2"
   ]
  },
  {
   "cell_type": "code",
   "execution_count": null,
   "metadata": {},
   "outputs": [],
   "source": [
    "# Plot a on x-axis and b on y-axis\n",
    "plt.plot(a,b)"
   ]
  },
  {
   "cell_type": "markdown",
   "metadata": {},
   "source": [
    "### Features in plot\n",
    "One could add several features to the plot to make it more comprehensible.\n",
    "\n",
    "* `linestyle` : \n",
    "    - '-' for line\n",
    "    - '--' for dashed\n",
    "    - '-.' for dash dotted\n",
    "    - ':' for dotted\n",
    "    \n",
    "* `color` : Matplotlib has a host of colors to choose from\n",
    "\n",
    "* `marker` :\n",
    "    - 'o' dot\n",
    "    - 's' square\n",
    "    - 'v' for downward triangle\n",
    "    - '^' for upward triangle\n",
    "\n",
    "* `marker` has various attributes:\n",
    "    - `markerfacecolor' choose color of the face of marker\n",
    "    - `markeredgewidth` set it to zero to remove edge of a marker\n",
    "    - `markersize` set it to a particular size\n",
    "\n",
    "* `label` to choose the name that appears in the legend. Use r before single quote if using Latex.\n",
    "\n",
    "* `plt.xlabel` chooses x-label\n",
    "\n",
    "* `plt.ylabel` chooses y-label\n",
    "\n",
    "* `plt.legend` to show the legend and fix its properties:\n",
    "    - `loc` : location\n",
    "    - `numpoints` : number of points that appear in the legend\n",
    "    - `ncol` : number of columns\n",
    "    - `shadow` : shadow of legend box if `frameon` is True\n",
    "    - `frameon` : Whether to put a box around legend\n",
    "    - `prop={size:12}` : To choose font size in legend "
   ]
  },
  {
   "cell_type": "code",
   "execution_count": null,
   "metadata": {},
   "outputs": [],
   "source": [
    "plt.plot(a,b, linestyle='-', color='b', \n",
    "         marker='o',markerfacecolor='r',markeredgewidth=0.0,markersize=10., label=r'Square of numbers')\n",
    "plt.plot(a,a**3, linestyle='--', color='g', \n",
    "         marker='o',markerfacecolor='orange',markeredgewidth=0.0,markersize=10., label=r'Cube of numbers')\n",
    "plt.xlabel(r\"Numbers ($x$)\")\n",
    "plt.ylabel(r\"Square of Numbers ($x^n$)\")\n",
    "plt.legend(loc='best',numpoints = 1,ncol =1, shadow=False,frameon=True,prop={'size':12})"
   ]
  },
  {
   "cell_type": "code",
   "execution_count": null,
   "metadata": {},
   "outputs": [],
   "source": [
    "data=np.loadtxt('PATH TO YOUR DATA FILE')\n",
    "# Try plotting some data"
   ]
  },
  {
   "cell_type": "code",
   "execution_count": null,
   "metadata": {},
   "outputs": [],
   "source": [
    "plt.plot(data[:,0],data[:,1],linestyle='None',marker='o',markerfacecolor='k',\n",
    "         markeredgewidth=0.0, markersize=.5)"
   ]
  },
  {
   "cell_type": "code",
   "execution_count": null,
   "metadata": {},
   "outputs": [],
   "source": []
  }
 ],
 "metadata": {
  "kernelspec": {
   "display_name": "Python 2",
   "language": "python",
   "name": "python2"
  },
  "language_info": {
   "codemirror_mode": {
    "name": "ipython",
    "version": 2
   },
   "file_extension": ".py",
   "mimetype": "text/x-python",
   "name": "python",
   "nbconvert_exporter": "python",
   "pygments_lexer": "ipython2",
   "version": "2.7.15"
  }
 },
 "nbformat": 4,
 "nbformat_minor": 2
}
