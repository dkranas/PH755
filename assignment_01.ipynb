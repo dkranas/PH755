{
 "cells": [
  {
   "cell_type": "markdown",
   "metadata": {},
   "source": [
    "## Logistic map\n",
    "\n",
    "Logistic map is one of the most famous examples of chaos. It is given by\n",
    "$$\n",
    "x' = r\\, x\\, (1. - x).\n",
    "$$\n",
    "This is an iterative map. If you choose a value of $r$ and a starting value of $x$ and iterate the above  equation a lot of times, one of the following things will happen:\n",
    "\n",
    "1. The value of $x$ will quickly approach a fixed point and remain there.\n",
    "\n",
    "2. The value of $x$ settles to a set of values, say four, repeating them in a given order over and over again.\n",
    "\n",
    "3. It takes a seemingly random sequence of values. This is known as deterministic chaos. It is called so because even though it seems chaotic, the sequence can be predicted using logistic map.\n",
    "\n",
    "Write a program to compute the behaviour of logistic map. \n",
    "\n",
    "1. Start with a value of $r$ and choose $x = 0.5$. Iterate the equation for say 1000 times. This will allow the value of $x$ to settle down to any of the three possibilities. Now iterate the equation for 1000 more values. Plot these 1000 points as black dots on a graph with r value on the x-axis and $x$ value on y-axis. Repeat this exercise for $r$ in the range $[1.,4.]$ in steps of $0.01$ and plot them on the same graph. The plot you obtain is known as Feigenbaum plot.\n",
    "\n",
    "2. Describe the behaviour of logistic map in the range:\n",
    "\n",
    "    a. $1$ and $3$\n",
    "    \n",
    "    b. $3$ and $3.44949$\n",
    "    \n",
    "    c. $3.44949$ and $3.54409$"
   ]
  },
  {
   "cell_type": "code",
   "execution_count": null,
   "metadata": {},
   "outputs": [],
   "source": []
  },
  {
   "cell_type": "markdown",
   "metadata": {},
   "source": [
    "## Least squares fitting\n",
    "\n",
    "Least square fitting provides a procedure to find the best fitting curve to a set of data points. \n",
    "Suppose we have a model $y = m x + c$ and we are trying to find the parameters $m$ and $c$ that provides the best fit to the data. According to the procedure of least squares, the best fitting parameters are those which minimizes the function\n",
    "\n",
    "$$\n",
    "\\chi^2 = \\sum_{i=1}^N \\left( m\\,x_i + c - y_i \\right)^2\n",
    "$$\n",
    "\n",
    "where the sum is over all data points $(x_i, y_i)$. This implies that $m$ and $c$ are given by\n",
    "$$\n",
    "\\frac{d \\chi^2}{d m} = 0, \\\\\n",
    "\\frac{d \\chi^2}{d c} = 0.\n",
    "$$\n",
    "Performing the derivatives, one could write the above equation as\n",
    "$$\n",
    "m \\sum_{i = 1}^N x_i^2 + c \\sum_{i = 1}^N x_i - \\sum_{i = 1}^N x_i\\, y_i = 0,\\\\\n",
    "m \\sum_{i = 1}^N x_i + c N - \\sum_{i = 1}^N y_i = 0.\n",
    "$$\n",
    "\n",
    "For convenience, let us define\n",
    "$$\n",
    "E_x = \\frac{1}{N}\\sum_{i = 1}^N x_i, \\;\\;\\;\\; E_y = \\frac{1}{N}\\sum_{i = 1}^N y_i, \\;\\;\\;\\; \n",
    "E_{xx} = \\frac{1}{N} \\sum_{i = 1}^N x_i^2, \\;\\;\\;\\; E_{xy} = \\frac{1}{N} \\sum_{i = 1}^N x_iy_i.\n",
    "$$\n",
    "In terms of them, one could solve the above equation and write solutions for $m$ and $c$ as \n",
    "$$\n",
    "m = \\frac{E_{xy} - E_x E_y}{E_{xx} - E_x^2},\\;\\;\\;\\;\n",
    "c = \\frac{E_{xx}E_y - E_x E_{xy}}{E_{xx} - E_x^2}.\n",
    "$$\n",
    "These values of $m$ and $c$ would provide best fit to the data.\n",
    "\n",
    "1. Read in the following data \"millikan.txt\" and plot the data using blue dots. Choose the x-label to be $\\nu$ (in Hz) and the y-label to be $V$ (in Volts).\n",
    "\n",
    "2. Write a code to implement the algorithm described in the question and determine the value of $m$ and $c$. \n",
    "\n",
    "3. Draw a red curve $ y = m x_i + c$ using the best fit values of $m$ and $c$ over the data points plotted in part (1.) of this exercise. \n",
    "\n",
    "4. The data \"millikan.txt\" is from a historic experiment by Robert Millikan to measure photoelectric effect. Comparing with the best fit value of $m$, use the following equation \n",
    "$$\n",
    "V = \\frac{h}{e} \\nu - \\phi\n",
    "$$\n",
    "to determine Plancks constant. Take $ e = 1.602 \\times 10^{-19}$C."
   ]
  },
  {
   "cell_type": "code",
   "execution_count": null,
   "metadata": {},
   "outputs": [],
   "source": []
  },
  {
   "cell_type": "code",
   "execution_count": null,
   "metadata": {},
   "outputs": [],
   "source": []
  }
 ],
 "metadata": {
  "kernelspec": {
   "display_name": "Python 2",
   "language": "python",
   "name": "python2"
  },
  "language_info": {
   "codemirror_mode": {
    "name": "ipython",
    "version": 2
   },
   "file_extension": ".py",
   "mimetype": "text/x-python",
   "name": "python",
   "nbconvert_exporter": "python",
   "pygments_lexer": "ipython2",
   "version": "2.7.15"
  }
 },
 "nbformat": 4,
 "nbformat_minor": 2
}
