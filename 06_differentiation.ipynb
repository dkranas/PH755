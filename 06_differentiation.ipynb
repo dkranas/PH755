{
 "cells": [
  {
   "cell_type": "markdown",
   "metadata": {},
   "source": [
    "# Differentiation\n",
    "\n",
    "Differentiation is not used as much as integration. This is because:\n",
    "\n",
    "1. Derivatives of known functions can be taken analytically.\n",
    "\n",
    "2. More difficult"
   ]
  },
  {
   "cell_type": "markdown",
   "metadata": {},
   "source": [
    "### Forward and Backward differences\n",
    "\n",
    "Standard definition of a derivative is\n",
    "$$\n",
    "\\frac{d f}{d x}\\, =\\, \\lim_{h\\rightarrow 0} \\frac{f(x+h)\\, -\\, f(x)}{h}\n",
    "$$\n",
    "But in practive we cannot take the limit $h \\rightarrow 0$.\n",
    "\n",
    "In the **forward difference** method, the derivative is approximated by\n",
    "\n",
    "$$\n",
    "\\frac{d f}{d x}\\, \\simeq \\, \\frac{f(x+h)\\, -\\, f(x)}{h}\n",
    "$$\n",
    "for sufficiently small $h$. It is called forward difference because, the change in f is measured in the forward direction of x.\n",
    "\n",
    "**Backward difference** is \n",
    "\n",
    "$$\n",
    "\\frac{d f}{d x}\\, \\simeq \\, \\frac{f(x)\\, -\\, f(x-h)}{h}\n",
    "$$\n",
    "\n",
    "\n",
    "#### Errors\n",
    "\n",
    "To understand the error, Taylor expand $f(x + h)$ at x,\n",
    "$$\n",
    "f(x+h)\\, =\\, f(x)\\, +\\, h\\,f'(x)\\, +\\, \\frac{1}{2} h^2\\, f''(x)\\, +\\, \n",
    "$$\n",
    "\n",
    "Rearrangin the expressions we obtain, \n",
    "$$\n",
    "f'(x)\\, =\\, \\frac{f(x+h)\\, -\\, f(x)}{h}\\, -\\, \\frac{1}{2}h\\, f''(x)\\, +\\, ...\n",
    "$$\n",
    "\n",
    "Thus, the error in this case is of order $h$. This implies, if we try to make the approximation error  too small, the error will become comparable to roundoff error! So we need to find a middle ground.\n",
    "\n",
    "1. The absolute round off error on $f(x+h)\\, -\\, f(x)$, in the worst case, is $2\\, C\\, |f(x)|$. It is based on the assumption that error on $f(x)$ and $f(x+h)$ are comparable and in the worst case they add up. Hence round off error on forward or backword difference is $2\\,C\\,|f(x)|/h$.\n",
    "\n",
    "2. Approximation error is $\\frac{1}{2}\\,h\\,|f''(x)|$.\n",
    "\n",
    "Thus, the total error is,\n",
    "$$\n",
    "\\epsilon\\, =\\, \\frac{2\\,C\\,|f(x)|}{h}\\, +\\, \\frac{1}{2}\\, h\\, |f''(x)|\n",
    "$$\n",
    "In order to minimize the error, we differentiate the error with respect to $h$, to obtain\n",
    "$$\n",
    "-\\frac{2\\,C\\,|f(x)|}{h^2}\\, +\\, \\frac{1}{2}\\, |f(x)|\\, =\\, 0\n",
    "$$\n",
    "or equivalently\n",
    "$$\n",
    "h\\, =\\, \\sqrt{4\\,C\\,|\\frac{f(x)}{f''(x)}|}\n",
    "$$\n",
    "Substituting the value of h back in to the expression for $\\epsilon$,\n",
    "$$\n",
    "\\epsilon\\, =\\, \\sqrt{4\\,C\\, |f(x)\\, f''(x)|}.\n",
    "$$\n",
    "Thus, if $f(x)$  and $f''(x)$ are of ${\\cal O}(1)$, then for $h\\, \\sim\\, {\\cal O}(10^{-8})$ our result will have an error of same amplitude. \n",
    "\n",
    "One can perform a similar analysis for backward difference method. The result will be same."
   ]
  },
  {
   "cell_type": "markdown",
   "metadata": {},
   "source": [
    "### Central Differences\n",
    "\n",
    "A simple improvement to backward or forward difference method is \n",
    "$$\n",
    "\\frac{d\\,f}{d\\,x} \\simeq \\frac{f(x+h/2)\\, -\\, f(x - h/2)}{h}.\n",
    "$$\n",
    "\n",
    "Taylor expanding the two terms in the numerator and isolating the first derivative piece, one obtains\n",
    "\n",
    "$$\n",
    "f'(x)\\, =\\, \\frac{f(x+h/2)\\, -\\, f(x - h/2)}{h}\\, -\\, \\frac{1}{24}\\, h^2\\, f'''(x)\\,+\\, ... .\n",
    "$$\n",
    "\n",
    "**Exercise :** Derive above expression.\n",
    "\n",
    "Taking in to account the approximation error and roundoff error, we obtain\n",
    "$$\n",
    "\\epsilon\\, =\\, \\frac{2\\,C\\,|f(x)|}{h}\\, +\\, \\frac{1}{24}\\, h^2\\, |f'''(x)|.\n",
    "$$\n",
    "\n",
    "Minimizing the above error estimate one obtains\n",
    "$$\n",
    "h\\, =\\, \\left( 24\\,C\\, \\lvert \\frac{f(x)}{f'''(x)}\\rvert \\right)^{1/3}.\n",
    "$$\n",
    "\n",
    "Using this value of $h$, the optimum error estimate is \n",
    "$$\n",
    "\\epsilon\\, =\\, \\frac{h^2}{8}\\, \\lvert f'''(x) \\rvert =\\, \\left( \\frac{9}{8}\\, C^2\\, \\lvert f(x) \\rvert^2\\,\\lvert f'''(x)\\rvert \\right)^{1/3}\n",
    "$$\n",
    "Thus, for a function with $|f(x)|,\\, |f'''(x)| \\simeq \\, {\\cal O}(1)$, ideal value of $h \\simeq {\\cal O}(10^{-5})$ which leads to an error of $ \\epsilon\\, {\\cal O}(10^{-10})$.\n",
    "\n",
    "**Exercise :** Derive the expression for ideal value of $h$ and the ideal error $\\epsilon$."
   ]
  },
  {
   "cell_type": "code",
   "execution_count": 1,
   "metadata": {},
   "outputs": [],
   "source": [
    "import numpy as np\n",
    "import matplotlib.pyplot as plt\n",
    "%matplotlib inline"
   ]
  },
  {
   "cell_type": "code",
   "execution_count": 34,
   "metadata": {},
   "outputs": [
    {
     "data": {
      "image/png": "[encoded data removed]",
      "text/plain": [
       "<Figure size 432x288 with 1 Axes>"
      ]
     },
     "metadata": {
      "needs_background": "light"
     },
     "output_type": "display_data"
    }
   ],
   "source": [
    "fig, (ax) = plt.subplots(1,1,figsize=(6,4))\n",
    "x = np.linspace(0.,2.*np.pi,500)\n",
    "plt.plot(x,pow(x,1./3.)*np.sin(x),linestyle='-')\n",
    "x = np.linspace(0.,2.*np.pi,11)\n",
    "plt.plot(x,pow(x,1./3.)*np.sin(x),linestyle='-',marker='o')\n",
    "plt.xlabel(r'$x$')\n",
    "plt.ylabel(r'$f\\,(x)$')\n",
    "plt.title(r'$f(x)\\, =\\, x\\,\\sin(x)$')\n",
    "plt.xlim(0.2,1.5 * np.pi)\n",
    "plt.text(0.30,0.90, r'P', horizontalalignment='center', \n",
    "         verticalalignment='center', transform=ax.transAxes)\n",
    "plt.text(0.35,0.70, r'$\\leftarrow h\\rightarrow$', horizontalalignment='center', \n",
    "         verticalalignment='center', transform=ax.transAxes)\n",
    "plt.xticks(x)\n",
    "ax.tick_params(axis = 'x',which='both',length=5,direction='in', pad=10)\n",
    "ax.tick_params(axis = 'y',which='both',length=5,direction='in', pad=5)\n",
    "plt.grid(alpha=0.4)"
   ]
  },
  {
   "cell_type": "markdown",
   "metadata": {},
   "source": [
    "#### Derivative of a sampled function\n",
    "\n",
    "Consider a function sampled at few equally spaced points (see above figure). In such a case, while performing central difference, one has to use the fomula\n",
    "$$\n",
    "\\frac{d\\,f}{d\\,x} \\simeq \\frac{f(x+h)\\, -\\, f(x - h)}{2\\,h}.\n",
    "$$\n",
    "Note that, I have used $h$ instead of $h/2$. *Then, is forward difference better than central difference?* \n",
    "\n",
    "This can be seen as follows:\n",
    "\n",
    "a. $\\epsilon_F\\, =\\, \\frac{h}{2}\\, f''(x)$, for forward difference\n",
    "\n",
    "b. $\\epsilon_C\\, =\\, \\frac{h^2}{2}\\, f'''(x)$, for central difference\n",
    "\n",
    "Comparing the two errors, one could write $h\\, <\\, \\lvert f''(x)/f'''(x)\\rvert$ for better accuracy with central difference.\n",
    "\n",
    "**Note :** Note that one can use the spacing $h/2$, if we are computing the derivative at a point in the middle of two sample points spaced $h$ apart. "
   ]
  },
  {
   "cell_type": "markdown",
   "metadata": {},
   "source": [
    "**Exercise :** Compute the derivative of $1\\, +\\, \\frac{1}{2}\\tanh (2x)$ using (i) forward difference and (ii) central difference. Compare both answers with the analytical answer by plotting a graph."
   ]
  },
  {
   "cell_type": "code",
   "execution_count": null,
   "metadata": {},
   "outputs": [],
   "source": []
  },
  {
   "cell_type": "markdown",
   "metadata": {},
   "source": [
    "### Second Derivatives\n",
    "\n",
    "Simplest formula can be derived as follows:\n",
    "\n",
    "Using central difference formula,\n",
    "$$\n",
    "f'(x\\,+\\,h/2)\\, \\simeq\\, \\frac{f(x\\,+\\,h)\\, -\\, f(x)}{h}\\\\\n",
    "f'(x\\,-\\,h/2)\\, \\simeq\\, \\frac{f(x\\,)\\, -\\, f(x\\,-\\,h)}{h}.\n",
    "$$\n",
    "Now apply it again to find the second derivative as\n",
    "$$\n",
    "f''(x)\\, \\simeq\\, \\frac{f'(x\\,+\\,h/2)\\, -\\, f'(x\\, -\\, h/2)}{h}\\\\\n",
    "\\implies f''(x)\\, \\simeq\\, \\frac{f(x\\,+\\,h)\\, -\\, 2\\, f(x)\\, +\\, f(x\\, -\\, h)}{h^2}\n",
    "$$\n",
    "\n",
    "It has an absolute error, at leading order, of $\\frac{1}{12}\\, h^2\\, |f''''(x)|$."
   ]
  },
  {
   "cell_type": "code",
   "execution_count": null,
   "metadata": {},
   "outputs": [],
   "source": []
  },
  {
   "cell_type": "markdown",
   "metadata": {},
   "source": [
    "### Partial Derivatives\n",
    "\n",
    "For a function of two varibles, $f(x,\\, y)$ partial derivatives can be computed using central difference\n",
    "$$\n",
    "\\frac{\\partial f(x,\\,y)}{\\partial x}\\, =\\, \\frac{f(x\\,+\\,h/2,\\, y)\\, -\\, f(x\\, -\\, h/2,\\, y)}{h}\\\\\n",
    "\\frac{\\partial f(x,\\,y)}{\\partial y}\\, =\\, \\frac{f(x,\\, y\\,+\\,h/2)\\, -\\, f(x,\\, y\\, -\\, h/2)}{h}\\\\\n",
    "$$\n",
    "**Exercise :** Show that \n",
    "$$\n",
    "\\frac{\\partial^2 f(x,y)}{\\partial x \\partial y}\\, =\\, \\frac{f(x\\,+\\,h/2,\\, y\\, +\\, h/2)\\,-\\, f(x\\,-\\,h/2,\\, y\\, +\\, h/2)\\, -\\,f(x\\,+\\,h/2,\\, y\\, -\\, h/2)\\,+\\, f(x\\,-\\,h/2,\\, y\\, -\\, h/2)\\,}{h^2}\n",
    "$$"
   ]
  },
  {
   "cell_type": "code",
   "execution_count": null,
   "metadata": {},
   "outputs": [],
   "source": []
  },
  {
   "cell_type": "code",
   "execution_count": null,
   "metadata": {},
   "outputs": [],
   "source": []
  }
 ],
 "metadata": {
  "kernelspec": {
   "display_name": "Python 2",
   "language": "python",
   "name": "python2"
  },
  "language_info": {
   "codemirror_mode": {
    "name": "ipython",
    "version": 2
   },
   "file_extension": ".py",
   "mimetype": "text/x-python",
   "name": "python",
   "nbconvert_exporter": "python",
   "pygments_lexer": "ipython2",
   "version": "2.7.15"
  }
 },
 "nbformat": 4,
 "nbformat_minor": 2
}
