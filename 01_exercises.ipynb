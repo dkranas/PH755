{
 "cells": [
  {
   "cell_type": "markdown",
   "metadata": {},
   "source": [
    "# Exercises in Python programming"
   ]
  },
  {
   "cell_type": "markdown",
   "metadata": {},
   "source": [
    "**Q.1.** Write a program to assign a number to a variable and print the square and cube of the number. "
   ]
  },
  {
   "cell_type": "code",
   "execution_count": null,
   "metadata": {},
   "outputs": [],
   "source": []
  },
  {
   "cell_type": "markdown",
   "metadata": {},
   "source": [
    "**Q.2.** Write a program to print the reminder of a number, larger than 3, divided by 3. Use module operator."
   ]
  },
  {
   "cell_type": "code",
   "execution_count": null,
   "metadata": {},
   "outputs": [],
   "source": []
  },
  {
   "cell_type": "markdown",
   "metadata": {},
   "source": [
    "**Q.3.** Write a program to print all odd numbers between any two numbers. Use `while` loop and `if` condition."
   ]
  },
  {
   "cell_type": "code",
   "execution_count": null,
   "metadata": {},
   "outputs": [],
   "source": []
  },
  {
   "cell_type": "markdown",
   "metadata": {},
   "source": [
    "**Q.4.** Write a function to check whether a number is prime or not. "
   ]
  },
  {
   "cell_type": "code",
   "execution_count": null,
   "metadata": {},
   "outputs": [],
   "source": []
  },
  {
   "cell_type": "markdown",
   "metadata": {},
   "source": [
    "**Q.5.** Using `for` loop and `range` iterator print square of all numbers less than a number n."
   ]
  },
  {
   "cell_type": "code",
   "execution_count": null,
   "metadata": {},
   "outputs": [],
   "source": []
  },
  {
   "cell_type": "markdown",
   "metadata": {},
   "source": [
    "**Q.6.** Define an empty list (i.e., say, a = [ ]). Modify the above program to append the square of numbers in to this empty list. \n",
    "\n",
    "a. Finally print the list of numbers. \n",
    "\n",
    "b. Print the first two and last twonumbers\n",
    "\n",
    "c. Print the third to 6th elements."
   ]
  },
  {
   "cell_type": "code",
   "execution_count": null,
   "metadata": {},
   "outputs": [],
   "source": []
  },
  {
   "cell_type": "markdown",
   "metadata": {},
   "source": [
    "**Q.7.** What happens when you add, subtract, multiply or divide a list by a number."
   ]
  },
  {
   "cell_type": "code",
   "execution_count": null,
   "metadata": {},
   "outputs": [],
   "source": []
  },
  {
   "cell_type": "markdown",
   "metadata": {},
   "source": [
    "**Q.8.** Define two lists of numbers and find out the results of four arithmetic operations between two lists. "
   ]
  },
  {
   "cell_type": "code",
   "execution_count": null,
   "metadata": {},
   "outputs": [],
   "source": []
  },
  {
   "cell_type": "markdown",
   "metadata": {},
   "source": [
    "**Q.9.** Define an array of 5 elements. Explore the four arithmetic operations on the array by a number."
   ]
  },
  {
   "cell_type": "code",
   "execution_count": null,
   "metadata": {},
   "outputs": [],
   "source": []
  },
  {
   "cell_type": "markdown",
   "metadata": {},
   "source": [
    "**Q.10.** Define two arrays of 5 elements each. What happens when you add, subtract, multipy or divide these arrays."
   ]
  },
  {
   "cell_type": "code",
   "execution_count": null,
   "metadata": {},
   "outputs": [],
   "source": []
  },
  {
   "cell_type": "markdown",
   "metadata": {},
   "source": [
    "**Q.11.** Create a 4X5 array of all ones (use np.ones)"
   ]
  },
  {
   "cell_type": "code",
   "execution_count": null,
   "metadata": {},
   "outputs": [],
   "source": []
  },
  {
   "cell_type": "markdown",
   "metadata": {},
   "source": [
    "**Q.12.** Create an 5X4 array of all zeros ( use np.zeros)"
   ]
  },
  {
   "cell_type": "code",
   "execution_count": null,
   "metadata": {},
   "outputs": [],
   "source": []
  },
  {
   "cell_type": "markdown",
   "metadata": {},
   "source": [
    "**Q.13.** Print the last two rows of the array 'a' and two columns of a."
   ]
  },
  {
   "cell_type": "code",
   "execution_count": 11,
   "metadata": {},
   "outputs": [],
   "source": [
    "import numpy as np"
   ]
  },
  {
   "cell_type": "code",
   "execution_count": 12,
   "metadata": {},
   "outputs": [
    {
     "name": "stdout",
     "output_type": "stream",
     "text": [
      "[[0.34141715 0.67445508 0.70012974 0.27512986 0.33954006 0.23969668]\n",
      " [0.15536315 0.77433789 0.83235955 0.64607676 0.69277715 0.86662666]\n",
      " [0.65638833 0.38425824 0.63162095 0.63418708 0.60810526 0.75957721]\n",
      " [0.87401061 0.30144742 0.30514688 0.28027768 0.35097627 0.39537572]\n",
      " [0.96245578 0.62792409 0.16413639 0.61941806 0.49493195 0.0123546 ]]\n"
     ]
    }
   ],
   "source": [
    "a = np.random.random([5,6])\n",
    "print a"
   ]
  },
  {
   "cell_type": "code",
   "execution_count": null,
   "metadata": {},
   "outputs": [],
   "source": []
  },
  {
   "cell_type": "markdown",
   "metadata": {},
   "source": [
    "**Q.14.** (a) Debug the following code to print numbers from 10 to 1. (a) Modify the while loop to stop the code when i = 3. (c) How would you modify the loop to skip printing the number 3? "
   ]
  },
  {
   "cell_type": "code",
   "execution_count": 19,
   "metadata": {},
   "outputs": [
    {
     "ename": "SyntaxError",
     "evalue": "invalid syntax (<ipython-input-19-aca508cae0b0>, line 2)",
     "output_type": "error",
     "traceback": [
      "\u001b[0;36m  File \u001b[0;32m\"<ipython-input-19-aca508cae0b0>\"\u001b[0;36m, line \u001b[0;32m2\u001b[0m\n\u001b[0;31m    while i >0\u001b[0m\n\u001b[0m              ^\u001b[0m\n\u001b[0;31mSyntaxError\u001b[0m\u001b[0;31m:\u001b[0m invalid syntax\n"
     ]
    }
   ],
   "source": [
    "i =10\n",
    "while i >0\n",
    "print i,\n",
    "i -= 1"
   ]
  },
  {
   "cell_type": "markdown",
   "metadata": {},
   "source": [
    "**Q.15.** Pascal's triangle :\n",
    "\n",
    "   a. Write a function `binomial(n,k)` to compute binomial \n",
    "    coefficient. Make sure to return answers as integer. \n",
    "    Make sure that it gives $1$ for `k=0`.\n",
    "    \n",
    "   b. Print out first 10 lines of Pascals triangle \n",
    "    i.e n$_{\\rm th}$ line will contain binomial(n,0), \n",
    "    binomial(n,1), ..., binomial(n,n).\n",
    "    \n",
    "   c. Probability of obtaining k heads in n tosses is \n",
    "    `binomial(n,k)/2**n`. Write a program to calculate \n",
    "    probability of obtaining 40 heads in 100 tosses. \n",
    "    Write a program to calculate 40 or more heads in \n",
    "    100 tosses. "
   ]
  },
  {
   "cell_type": "markdown",
   "metadata": {},
   "source": []
  }
 ],
 "metadata": {
  "kernelspec": {
   "display_name": "Python 2",
   "language": "python",
   "name": "python2"
  },
  "language_info": {
   "codemirror_mode": {
    "name": "ipython",
    "version": 2
   },
   "file_extension": ".py",
   "mimetype": "text/x-python",
   "name": "python",
   "nbconvert_exporter": "python",
   "pygments_lexer": "ipython2",
   "version": "2.7.15"
  }
 },
 "nbformat": 4,
 "nbformat_minor": 2
}
