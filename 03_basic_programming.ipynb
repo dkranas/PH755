{
 "cells": [
  {
   "cell_type": "markdown",
   "metadata": {},
   "source": [
    "# Introduction to Python"
   ]
  },
  {
   "cell_type": "markdown",
   "metadata": {},
   "source": [
    "In this notebook, we will learn some basics of programming using Python.\n",
    "\n",
    "A program consists of a list of instructions or statements which the computer will execute one by one. The following sections introduce various types of statements in the Python language."
   ]
  },
  {
   "cell_type": "markdown",
   "metadata": {},
   "source": [
    "### Variables and Assignments"
   ]
  },
  {
   "cell_type": "code",
   "execution_count": null,
   "metadata": {},
   "outputs": [],
   "source": [
    "# Assignment statement: i.e. assign a value to a variable. Eg.\n",
    "x = 1\n",
    "# The above statement tells the computer that there is a variable x which has value 1."
   ]
  },
  {
   "cell_type": "markdown",
   "metadata": {},
   "source": [
    "#### Rules in naming variables\n",
    "\n",
    "1. Variables can contain alphabets, '_' and numbers.\n",
    "2. Variables cannot start with a number\n",
    "\n",
    "Eg. : abc, star_123, _xft etc. are valid variables. \n",
    "\n",
    "While doing Physics problems, the code becomes more readable if we use variables such as 'angular_momentum', 'velocity_initial' etc."
   ]
  },
  {
   "cell_type": "markdown",
   "metadata": {},
   "source": [
    "### Variable types\n",
    "\n",
    "1. Integers : 0, 1, 2345, -7862\n",
    "2. Float : 3.14159, -1.0, -6.63e-34\n",
    "3. Complex : 1 + 2j, -3.5 -0.8j"
   ]
  },
  {
   "cell_type": "code",
   "execution_count": null,
   "metadata": {},
   "outputs": [],
   "source": [
    "#Integers\n",
    "-3496"
   ]
  },
  {
   "cell_type": "code",
   "execution_count": null,
   "metadata": {},
   "outputs": [],
   "source": [
    "#Float\n",
    "-6.63e-3"
   ]
  },
  {
   "cell_type": "code",
   "execution_count": null,
   "metadata": {},
   "outputs": [],
   "source": [
    "# Complex\n",
    "-1. + 3.4j"
   ]
  },
  {
   "cell_type": "markdown",
   "metadata": {},
   "source": [
    "Note that:\n",
    "\n",
    "* Type of variable is set by the value assigned to it\n",
    "* Storage size used by these variables types are different. \n",
    "\n",
    "\n",
    "Another variable type:\n",
    "\n",
    "* String: \n",
    "\n",
    "x = \"This is a string\"\n",
    "Strings are a set of characters. Even numbers can be a string. Eg:- x = \"1.453\". In this example, x does not represent a number, but a set of symbols  which are numbers and a decimal."
   ]
  },
  {
   "cell_type": "markdown",
   "metadata": {},
   "source": [
    "### Output and Input Statement\n",
    "\n",
    "Out put statement is `print` and input statement is `input`"
   ]
  },
  {
   "cell_type": "code",
   "execution_count": null,
   "metadata": {},
   "outputs": [],
   "source": [
    "\n",
    "x = 1\n",
    "print x\n",
    "# If you are using Python 3, print is a function and hence so you should write print(x). "
   ]
  },
  {
   "cell_type": "code",
   "execution_count": null,
   "metadata": {},
   "outputs": [],
   "source": [
    "y =5.6\n",
    "print x, y"
   ]
  },
  {
   "cell_type": "code",
   "execution_count": null,
   "metadata": {},
   "outputs": [],
   "source": [
    "thevalueof = \"The value of\"\n",
    "print thevalueof, \"x is\", x, \"and\", thevalueof,\"y is\", y"
   ]
  },
  {
   "cell_type": "code",
   "execution_count": null,
   "metadata": {},
   "outputs": [],
   "source": [
    "#input statement\n",
    "x = input(\"Enter the value of x:\")\n",
    "print x"
   ]
  },
  {
   "cell_type": "code",
   "execution_count": null,
   "metadata": {},
   "outputs": [],
   "source": [
    "x = input(\"Enter the value of x:\")\n",
    "print x"
   ]
  },
  {
   "cell_type": "code",
   "execution_count": null,
   "metadata": {},
   "outputs": [],
   "source": [
    "temp = input(\"Enter the value of x :\")\n",
    "print \"The value of temp is :\", temp\n",
    "x=float(temp)\n",
    "print \"The value of x is :\", x\n",
    "# Run this code and give temp = \"0.5\", i.e. as a string. Observe the output. \n",
    "# Now rerun the code by changing `float` in the third line to `complex` and \n",
    "#`int` and see what happens."
   ]
  },
  {
   "cell_type": "code",
   "execution_count": null,
   "metadata": {},
   "outputs": [],
   "source": []
  }
 ],
 "metadata": {
  "kernelspec": {
   "display_name": "Python 2",
   "language": "python",
   "name": "python2"
  },
  "language_info": {
   "codemirror_mode": {
    "name": "ipython",
    "version": 2
   },
   "file_extension": ".py",
   "mimetype": "text/x-python",
   "name": "python",
   "nbconvert_exporter": "python",
   "pygments_lexer": "ipython2",
   "version": "2.7.15"
  }
 },
 "nbformat": 4,
 "nbformat_minor": 2
}
