{
 "cells": [
  {
   "cell_type": "markdown",
   "metadata": {},
   "source": [
    "# Introduction to Python"
   ]
  },
  {
   "cell_type": "markdown",
   "metadata": {},
   "source": [
    "In this notebook, we will learn some basics of programming using Python.\n",
    "\n",
    "A program consists of a list of instructions or statements which the computer will execute one by one. The following sections introduce various types of statements in the Python language."
   ]
  },
  {
   "cell_type": "markdown",
   "metadata": {},
   "source": [
    "### Variables and Assignments"
   ]
  },
  {
   "cell_type": "code",
   "execution_count": null,
   "metadata": {},
   "outputs": [],
   "source": [
    "# Assignment statement: i.e. assign a value to a variable. Eg.\n",
    "x = 1\n",
    "# The above statement tells the computer that there is a variable x which has value 1."
   ]
  },
  {
   "cell_type": "markdown",
   "metadata": {},
   "source": [
    "#### Rules in naming variables\n",
    "\n",
    "1. Variables can contain alphabets, '_' and numbers.\n",
    "2. Variables cannot start with a number\n",
    "\n",
    "Eg. : abc, star_123, _xft etc. are valid variables. \n",
    "\n",
    "While doing Physics problems, the code becomes more readable if we use variables such as 'angular_momentum', 'velocity_initial' etc."
   ]
  },
  {
   "cell_type": "markdown",
   "metadata": {},
   "source": [
    "### Variable types\n",
    "\n",
    "1. Integers : 0, 1, 2345, -7862\n",
    "2. Float : 3.14159, -1.0, -6.63e-34\n",
    "3. Complex : 1 + 2j, -3.5 -0.8j"
   ]
  },
  {
   "cell_type": "code",
   "execution_count": null,
   "metadata": {},
   "outputs": [],
   "source": [
    "#Integers\n",
    "-3496"
   ]
  },
  {
   "cell_type": "code",
   "execution_count": null,
   "metadata": {},
   "outputs": [],
   "source": [
    "#Float\n",
    "-6.63e-3"
   ]
  },
  {
   "cell_type": "code",
   "execution_count": null,
   "metadata": {},
   "outputs": [],
   "source": [
    "# Complex\n",
    "-1. + 3.4j"
   ]
  },
  {
   "cell_type": "markdown",
   "metadata": {},
   "source": [
    "Note that:\n",
    "\n",
    "* Type of variable is set by the value assigned to it\n",
    "* Storage size used by these variables types are different. \n",
    "\n",
    "\n",
    "Another variable type:\n",
    "\n",
    "* String: \n",
    "\n",
    "x = \"This is a string\"\n",
    "Strings are a set of characters. Even numbers can be a string. Eg:- x = \"1.453\". In this example, x does not represent a number, but a set of symbols  which are numbers and a decimal."
   ]
  },
  {
   "cell_type": "markdown",
   "metadata": {},
   "source": [
    "### Output and Input Statement\n",
    "\n",
    "Out put statement is `print` and input statement is `input`"
   ]
  },
  {
   "cell_type": "code",
   "execution_count": null,
   "metadata": {},
   "outputs": [],
   "source": [
    "\n",
    "x = 1\n",
    "print x\n",
    "# If you are using Python 3, print is a function and hence so you should write print(x). "
   ]
  },
  {
   "cell_type": "code",
   "execution_count": null,
   "metadata": {},
   "outputs": [],
   "source": [
    "y =5.6\n",
    "print x, y"
   ]
  },
  {
   "cell_type": "code",
   "execution_count": null,
   "metadata": {},
   "outputs": [],
   "source": [
    "thevalueof = \"The value of\"\n",
    "print thevalueof, \"x is\", x, \"and\", thevalueof,\"y is\", y"
   ]
  },
  {
   "cell_type": "code",
   "execution_count": null,
   "metadata": {},
   "outputs": [],
   "source": [
    "thevalueof = \"The square of\"\n",
    "print thevalueof, \"x is\", x*x, \"and\", thevalueof,\"y is\", y*y"
   ]
  },
  {
   "cell_type": "code",
   "execution_count": null,
   "metadata": {},
   "outputs": [],
   "source": [
    "#input statement\n",
    "x = input(\"Enter the value of x\")\n",
    "print x"
   ]
  },
  {
   "cell_type": "code",
   "execution_count": null,
   "metadata": {},
   "outputs": [],
   "source": [
    "x = input(\"Enter the value of x:\")\n",
    "print x"
   ]
  },
  {
   "cell_type": "code",
   "execution_count": null,
   "metadata": {},
   "outputs": [],
   "source": [
    "temp = input(\"Enter the value of x :\")\n",
    "print \"The value of temp is :\", temp\n",
    "x=int(temp)\n",
    "print \"The value of x is :\", x\n",
    "# Run this code and give temp = \"0.5\", i.e. as a string. Observe the output. \n",
    "# Now rerun the code by changing `float` in the third line to `complex` and \n",
    "#`int` and see what happens."
   ]
  },
  {
   "cell_type": "code",
   "execution_count": null,
   "metadata": {},
   "outputs": [],
   "source": [
    "x=\"5\"\n",
    "int(x)"
   ]
  },
  {
   "cell_type": "markdown",
   "metadata": {},
   "source": [
    "### Arithmetic"
   ]
  },
  {
   "cell_type": "code",
   "execution_count": null,
   "metadata": {},
   "outputs": [],
   "source": [
    "x =4\n",
    "y = 2"
   ]
  },
  {
   "cell_type": "code",
   "execution_count": null,
   "metadata": {},
   "outputs": [],
   "source": [
    "# Addition\n",
    "x+y"
   ]
  },
  {
   "cell_type": "code",
   "execution_count": null,
   "metadata": {},
   "outputs": [],
   "source": [
    "# Subtraction\n",
    "x-y"
   ]
  },
  {
   "cell_type": "code",
   "execution_count": null,
   "metadata": {},
   "outputs": [],
   "source": [
    "# Multiplication\n",
    "x*y"
   ]
  },
  {
   "cell_type": "code",
   "execution_count": null,
   "metadata": {},
   "outputs": [],
   "source": [
    "# Division\n",
    "x/y"
   ]
  },
  {
   "cell_type": "code",
   "execution_count": null,
   "metadata": {},
   "outputs": [],
   "source": [
    "# Raising x to the power y\n",
    "x**y"
   ]
  },
  {
   "cell_type": "code",
   "execution_count": null,
   "metadata": {},
   "outputs": [],
   "source": [
    "# Integer division\n",
    "# As noted above, when we divide two integers, \n",
    "# the result gets rounded down to its nearest integer.\n",
    "x=14.\n",
    "y=3\n",
    "x//y"
   ]
  },
  {
   "cell_type": "code",
   "execution_count": null,
   "metadata": {},
   "outputs": [],
   "source": [
    "#Modulo operator\n",
    "x=15\n",
    "y=4\n",
    "x%y\n",
    "\n",
    "# This operator can be used to find for instance \n",
    "# whether a number is even or odd."
   ]
  },
  {
   "cell_type": "markdown",
   "metadata": {},
   "source": [
    "#### Combining mathematical operators\n",
    "\n",
    "`x + 2*y`    is equivalent to    $x + 2y$\n",
    "\n",
    "`x - y/2`    is equivalent to    $x - y/2$\n",
    "\n",
    "`3*x**2`    is equivalent to   $3*x^2$\n",
    "\n",
    "`x/2*y`    is equivalent to $\\frac{1}{2}x y$\n",
    "\n",
    "One can also use brackets to separate out operators. Eg:- Note the difference\n",
    "\n",
    "`x = a + b/c`\n",
    "\n",
    "`x = (a +b)/c`\n",
    "\n",
    "`x = a + 2*b - 0.5*(1.5**c + 2/7)`\n",
    "\n",
    "Also note that, operations are only allowed on right side, not on the left side. Eg:-\n",
    "\n",
    "`2*x = y`\n",
    "\n",
    "is not allowed."
   ]
  },
  {
   "cell_type": "code",
   "execution_count": null,
   "metadata": {},
   "outputs": [],
   "source": [
    "2*x = y"
   ]
  },
  {
   "cell_type": "code",
   "execution_count": null,
   "metadata": {},
   "outputs": [],
   "source": [
    "# Note that \n",
    "x = 1\n",
    "# is an assignment, not an equation. \n",
    "# One can also do\n",
    "x = x + 1\n",
    "print x\n",
    "# Mathematically the above statement does not make much sense."
   ]
  },
  {
   "cell_type": "markdown",
   "metadata": {},
   "source": [
    "#### Python modifiers\n",
    "\n",
    "`x+=1`    add 1 to x and assign it to x\n",
    "\n",
    "`x-=2`    subtract 2 from x and assign it to x\n",
    "\n",
    "`x *= -1.5' multipy x by -1.5 and assign it to x\n",
    "\n",
    "`x /= 3*x`  divide by $3\\times x$ and assign it to x\n",
    "\n",
    "'x //=1.4`    divide by 1.4 and round down to a whole number and assign it to x"
   ]
  },
  {
   "cell_type": "code",
   "execution_count": null,
   "metadata": {},
   "outputs": [],
   "source": [
    "x = 3\n",
    "x += 2\n",
    "print x"
   ]
  },
  {
   "cell_type": "markdown",
   "metadata": {},
   "source": [
    "### Importing functions from packages"
   ]
  },
  {
   "cell_type": "code",
   "execution_count": 3,
   "metadata": {},
   "outputs": [
    {
     "ename": "NameError",
     "evalue": "name 'log' is not defined",
     "output_type": "error",
     "traceback": [
      "\u001b[0;31m---------------------------------------------------------------------------\u001b[0m",
      "\u001b[0;31mNameError\u001b[0m                                 Traceback (most recent call last)",
      "\u001b[0;32m<ipython-input-3-7af49922a077>\u001b[0m in \u001b[0;36m<module>\u001b[0;34m()\u001b[0m\n\u001b[1;32m      1\u001b[0m \u001b[0mx\u001b[0m \u001b[0;34m=\u001b[0m \u001b[0;36m10\u001b[0m\u001b[0;34m\u001b[0m\u001b[0m\n\u001b[0;32m----> 2\u001b[0;31m \u001b[0mlog\u001b[0m\u001b[0;34m(\u001b[0m\u001b[0mx\u001b[0m\u001b[0;34m)\u001b[0m\u001b[0;34m\u001b[0m\u001b[0m\n\u001b[0m",
      "\u001b[0;31mNameError\u001b[0m: name 'log' is not defined"
     ]
    }
   ],
   "source": [
    "x = 10\n",
    "log(x)"
   ]
  },
  {
   "cell_type": "code",
   "execution_count": 4,
   "metadata": {},
   "outputs": [
    {
     "name": "stdout",
     "output_type": "stream",
     "text": [
      "2.30258509299\n"
     ]
    }
   ],
   "source": [
    "from math import log\n",
    "x = log(x)\n",
    "print x"
   ]
  },
  {
   "cell_type": "code",
   "execution_count": 5,
   "metadata": {},
   "outputs": [
    {
     "name": "stdout",
     "output_type": "stream",
     "text": [
      "1.0\n"
     ]
    }
   ],
   "source": [
    "from math import log10\n",
    "x = 10\n",
    "print log10(x)"
   ]
  },
  {
   "cell_type": "markdown",
   "metadata": {},
   "source": [
    "`math` package will allow us to use many such functions:\n",
    "\n",
    "`log`, `log10`, `exp`, `sin`, `cos`, `tan`, `asin`, `acos`, `atan`, `sinh`, `cosh`, `tanh`, `sqrt`\n"
   ]
  },
  {
   "cell_type": "code",
   "execution_count": 6,
   "metadata": {},
   "outputs": [
    {
     "name": "stdout",
     "output_type": "stream",
     "text": [
      "3.14159265359\n"
     ]
    }
   ],
   "source": [
    "# It also gives you the value of pi\n",
    "from math import pi\n",
    "print pi"
   ]
  },
  {
   "cell_type": "markdown",
   "metadata": {},
   "source": [
    "If you want you can import more than one function in single line\n",
    "\n",
    "`from math import log, sin, cos`\n",
    "\n",
    "will load three functions simultaneously. \n",
    "There are many other useful packages. You can look up the package `numpy` ."
   ]
  },
  {
   "cell_type": "markdown",
   "metadata": {},
   "source": [
    "### Modules\n",
    "Sometimes, packages contain modules which contain a \n",
    "particular set of functions. For instance, numpy contains \n",
    "a linear algebra module which contains a lot of functions \n",
    "such as inverse."
   ]
  },
  {
   "cell_type": "code",
   "execution_count": 7,
   "metadata": {},
   "outputs": [],
   "source": [
    "import numpy.linalg as linalg"
   ]
  },
  {
   "cell_type": "markdown",
   "metadata": {},
   "source": [
    "### Summary : An example program"
   ]
  },
  {
   "cell_type": "code",
   "execution_count": null,
   "metadata": {},
   "outputs": [],
   "source": [
    "from math import sin, cos, pi\n",
    "# Ask the user to enter values for radius and angle\n",
    "r = input(\"Enter r = \")\n",
    "degree = input(\"Enter theta in degrees =\")\n",
    "\n",
    "# Covert degree to radians\n",
    "\n",
    "theta = degree*pi/180\n",
    "\n",
    "# Convert (r, theta) to equivalent cartesian coordinates\n",
    "\n",
    "x = r*cos(theta)\n",
    "y = r*sin(theta)\n",
    "\n",
    "# Output results\n",
    "\n",
    "print \"x=\", x, \"and y=\", y"
   ]
  },
  {
   "cell_type": "markdown",
   "metadata": {},
   "source": [
    "### Controlling programs with **if** and **while**"
   ]
  },
  {
   "cell_type": "markdown",
   "metadata": {},
   "source": [
    "#### The if statement\n",
    "\n",
    "The `if` statement executes an expression only if certain condition is satisfied. It has the format\n",
    "\n",
    "```\n",
    "if condition :\n",
    "       instruction 1\n",
    "       \n",
    "       instruction 2\n",
    "       \n",
    "       ...\n",
    "       \n",
    "       instruction n\n",
    "```\n",
    "Note the semicolon and the indent. It tells the code which part should be evaluated when the condition is satisfied.\n",
    "\n",
    "Conditions are of various types:\n",
    "\n",
    "* `if x==1`   => Chack if $x=1$. Note the two equal signs\n",
    "\n",
    "* `if x>1`\n",
    "\n",
    "* `if x>=1`\n",
    "\n",
    "* `if x<1`\n",
    "\n",
    "* `if x<=1`\n",
    "\n",
    "* `if x!=1`    => Check if $x \\neq 1$\n"
   ]
  },
  {
   "cell_type": "code",
   "execution_count": null,
   "metadata": {},
   "outputs": [],
   "source": [
    "# A program to alert the user when they enter a number larger than 10\n",
    "\n",
    "x = int(input(\"Enter a whole number less than or equal to 10: \"))\n",
    "if x>10:\n",
    "    print \"You entered a number larger than 10.\"\n",
    "    print \"Re-assigning the number as 10!\"\n",
    "    x = 10\n",
    "print \"The number you entered is :\", x"
   ]
  },
  {
   "cell_type": "markdown",
   "metadata": {},
   "source": [
    "#### Relational operators\n",
    "` >, <, ==, >=, <=, !=` are relational operators. Their anser is `True` or `False`.\n",
    "\n",
    "#### Boolean operators in python\n",
    "1. and\n",
    "2. or\n",
    "3. not"
   ]
  },
  {
   "cell_type": "code",
   "execution_count": 13,
   "metadata": {},
   "outputs": [
    {
     "data": {
      "text/plain": [
       "False"
      ]
     },
     "execution_count": 13,
     "metadata": {},
     "output_type": "execute_result"
    }
   ],
   "source": [
    "x=20\n",
    "y=30\n",
    "x>y"
   ]
  },
  {
   "cell_type": "code",
   "execution_count": null,
   "metadata": {},
   "outputs": [],
   "source": [
    "x>0  and y>0"
   ]
  },
  {
   "cell_type": "code",
   "execution_count": null,
   "metadata": {},
   "outputs": [],
   "source": [
    "x>0 or y<10"
   ]
  },
  {
   "cell_type": "code",
   "execution_count": null,
   "metadata": {},
   "outputs": [],
   "source": [
    "not(x>0 and y>0)"
   ]
  },
  {
   "cell_type": "code",
   "execution_count": 10,
   "metadata": {},
   "outputs": [
    {
     "name": "stdin",
     "output_type": "stream",
     "text": [
      "enter x between 1 and 10: 5\n"
     ]
    }
   ],
   "source": [
    "# One can use more than one conditions in if statement\n",
    "x = input(\"enter x between 1 and 10:\")\n",
    "if x>10 or x<1:\n",
    "    print \"Number is out of bound\""
   ]
  },
  {
   "cell_type": "markdown",
   "metadata": {},
   "source": [
    "#### if - elif - else"
   ]
  },
  {
   "cell_type": "code",
   "execution_count": null,
   "metadata": {},
   "outputs": [],
   "source": [
    "x = input(\"enter x:\")\n",
    "if x> 10:\n",
    "    print \"x is greater than 10\"\n",
    "elif x<1:\n",
    "    print \"x is less than 1\" \n",
    "else:\n",
    "    print \"Number is in the required range\""
   ]
  },
  {
   "cell_type": "markdown",
   "metadata": {},
   "source": [
    "#### The while statement"
   ]
  },
  {
   "cell_type": "code",
   "execution_count": null,
   "metadata": {},
   "outputs": [],
   "source": [
    "# Program to count backwards\n",
    "x = input(\"Enter a number:\")\n",
    "while x>0:\n",
    "    x -=1\n",
    "    print x, #'comma' causes print to print in same line. \n",
    "print \".\"\n",
    "print \"Finished counting backwards\"\n",
    "# To print in same line in python 3 use print(x, end=\" \")"
   ]
  },
  {
   "cell_type": "markdown",
   "metadata": {},
   "source": [
    "#### Break and continue"
   ]
  },
  {
   "cell_type": "code",
   "execution_count": 11,
   "metadata": {},
   "outputs": [
    {
     "name": "stdin",
     "output_type": "stream",
     "text": [
      "Enter password in quotes: \"abc\"\n"
     ]
    },
    {
     "name": "stdout",
     "output_type": "stream",
     "text": [
      "Enter 'quit' to exit\n"
     ]
    },
    {
     "name": "stdin",
     "output_type": "stream",
     "text": [
      "Enter password in quotes: \"PH755\"\n"
     ]
    },
    {
     "name": "stdout",
     "output_type": "stream",
     "text": [
      "Welcome!\n",
      "Enter 'quit' to exit\n"
     ]
    }
   ],
   "source": [
    "# Enter password\n",
    "x=\"abc\"\n",
    "while x!=\"PH755\":\n",
    "    x = input(\"Enter password in quotes:\")\n",
    "    if x==\"PH755\":\n",
    "        print \"Welcome!\"\n",
    "    if x==\"quit\":\n",
    "        break\n",
    "    print \"Enter 'quit' to exit\""
   ]
  },
  {
   "cell_type": "code",
   "execution_count": 26,
   "metadata": {},
   "outputs": [
    {
     "name": "stdout",
     "output_type": "stream",
     "text": [
      "9 8 7 6 4 3 2 1 0\n"
     ]
    }
   ],
   "source": [
    "x =10\n",
    "while x>0:\n",
    "    x -=1\n",
    "    if x==5:\n",
    "        continue\n",
    "    print x,"
   ]
  },
  {
   "cell_type": "code",
   "execution_count": 18,
   "metadata": {},
   "outputs": [
    {
     "name": "stdout",
     "output_type": "stream",
     "text": [
      "1\n"
     ]
    }
   ],
   "source": [
    "x =1\n",
    "print x"
   ]
  },
  {
   "cell_type": "code",
   "execution_count": null,
   "metadata": {},
   "outputs": [],
   "source": [
    "# Print positive odd numbers less than a number\n",
    "x=int(input(\"Enter a number :\"))\n",
    "while x>0:\n",
    "    if x%2 !=0:\n",
    "        x -=1\n",
    "        continue # skips a step in the while loop\n",
    "        print x\n",
    "    else:\n",
    "        x-=1\n",
    "        print x,"
   ]
  },
  {
   "cell_type": "code",
   "execution_count": null,
   "metadata": {},
   "outputs": [],
   "source": [
    "# Fibonacci sequence\n",
    "f1 = 1\n",
    "f2 = 1\n",
    "next = f1 + f2\n",
    "while f1 <=1000:\n",
    "    print f1,\n",
    "    f1 = f2\n",
    "    f2 = next\n",
    "    next = f1+f2"
   ]
  },
  {
   "cell_type": "markdown",
   "metadata": {},
   "source": [
    "##### Exercise : Catalan numbers\n",
    "The Catalan numbers $C_n$ are a sequence of integers that play an important role in quantum mechanics and theory of disordered systems. For more information, see this [wiki page](https://en.wikipedia.org/wiki/Catalan_number). They are given by\n",
    "$$ C_0 = 1$$\n",
    "$$ C_{n+1} = \\frac{4 n + 2}{n+2}C_n$$\n",
    "Write a program that prints in increasing order all Catalan numbers less than or equal to one billion."
   ]
  },
  {
   "cell_type": "code",
   "execution_count": null,
   "metadata": {},
   "outputs": [],
   "source": [
    "# Write your solution here!\n"
   ]
  },
  {
   "cell_type": "markdown",
   "metadata": {},
   "source": [
    "### Lists and Arrays\n",
    "\n",
    "Variables store single values. Often we would want to store a set of values. Eg:- In three dimensions, position vector ${\\bf r}$ is a list of three numbers. We would also want to work with matrices. \n",
    "\n",
    "For this purpose, Python provides objects known as *containers*. We will deal with lists and arrays."
   ]
  },
  {
   "cell_type": "markdown",
   "metadata": {},
   "source": [
    "#### Lists"
   ]
  },
  {
   "cell_type": "code",
   "execution_count": 27,
   "metadata": {},
   "outputs": [
    {
     "data": {
      "text/plain": [
       "[1, 2, 3]"
      ]
     },
     "execution_count": 27,
     "metadata": {},
     "output_type": "execute_result"
    }
   ],
   "source": [
    "# List is a collection of quantities\n",
    "[1,2,3]"
   ]
  },
  {
   "cell_type": "code",
   "execution_count": 28,
   "metadata": {},
   "outputs": [
    {
     "data": {
      "text/plain": [
       "[1, 2.0, (3+4j), 'a']"
      ]
     },
     "execution_count": 28,
     "metadata": {},
     "output_type": "execute_result"
    }
   ],
   "source": [
    "# Not all elements in a list need to be of same type. \n",
    "[1,2.,3. +4j,\"a\"]\n",
    "# However, in most cases elements of a list will be of same type."
   ]
  },
  {
   "cell_type": "code",
   "execution_count": 29,
   "metadata": {},
   "outputs": [
    {
     "data": {
      "text/plain": [
       "[1, 2, 3]"
      ]
     },
     "execution_count": 29,
     "metadata": {},
     "output_type": "execute_result"
    }
   ],
   "source": [
    "# a variable can be set equal to a list\n",
    "r = [1,2,3]\n",
    "r"
   ]
  },
  {
   "cell_type": "code",
   "execution_count": 30,
   "metadata": {},
   "outputs": [
    {
     "name": "stdout",
     "output_type": "stream",
     "text": [
      "[4, 9, 16]\n"
     ]
    }
   ],
   "source": [
    "# One can constitute a list using variables\n",
    "x, y, z = 2, 3, 4\n",
    "r = [x**2, y**2, z**2]\n",
    "print r"
   ]
  },
  {
   "cell_type": "code",
   "execution_count": 31,
   "metadata": {},
   "outputs": [],
   "source": [
    "# Elements in a list can be accessed as follows:\n",
    "print r"
   ]
  },
  {
   "cell_type": "code",
   "execution_count": 32,
   "metadata": {},
   "outputs": [
    {
     "name": "stdout",
     "output_type": "stream",
     "text": [
      "4 9 16\n",
      "16 9 4\n",
      "[4, 9]\n"
     ]
    }
   ],
   "source": [
    "print r[0], r[1], r[2]\n",
    "print r[-1], r[-2], r[-3]\n",
    "print r[0:2]"
   ]
  },
  {
   "cell_type": "code",
   "execution_count": 33,
   "metadata": {},
   "outputs": [
    {
     "data": {
      "text/plain": [
       "[4, 6]"
      ]
     },
     "execution_count": 33,
     "metadata": {},
     "output_type": "execute_result"
    }
   ],
   "source": [
    "a = [2,4,6,8,10]\n",
    "a[1:3]"
   ]
  },
  {
   "cell_type": "code",
   "execution_count": 34,
   "metadata": {},
   "outputs": [
    {
     "name": "stdout",
     "output_type": "stream",
     "text": [
      "[4, 9, 16]\n"
     ]
    },
    {
     "data": {
      "text/plain": [
       "[4, 0, 16]"
      ]
     },
     "execution_count": 34,
     "metadata": {},
     "output_type": "execute_result"
    }
   ],
   "source": [
    "# One can also change elements of a list\n",
    "print r\n",
    "r[1]=0\n",
    "r"
   ]
  },
  {
   "cell_type": "markdown",
   "metadata": {},
   "source": [
    "##### Trivia \n",
    "\n",
    "The `In` and `Out` written in front of each cell is a list. Try it out."
   ]
  },
  {
   "cell_type": "code",
   "execution_count": 37,
   "metadata": {},
   "outputs": [
    {
     "data": {
      "text/plain": [
       "[4, 6]"
      ]
     },
     "execution_count": 37,
     "metadata": {},
     "output_type": "execute_result"
    }
   ],
   "source": [
    "Out[33]"
   ]
  },
  {
   "cell_type": "code",
   "execution_count": 39,
   "metadata": {},
   "outputs": [
    {
     "name": "stdout",
     "output_type": "stream",
     "text": [
      "r =  [1.0, 1.5, 2.5]\n",
      "sum of r is : 5.0\n",
      "Number of elements in r is 3\n",
      "Mean of list r is : 1.66666666667\n"
     ]
    }
   ],
   "source": [
    "# One can apply certain operations on entire list. Eg:-\n",
    "r = [1., 1.5, 2.5]\n",
    "print \"r = \", r\n",
    "print \"sum of r is :\", sum(r) # adds all elements\n",
    "# length of a list\n",
    "print \"Number of elements in r is\", len(r)\n",
    "# So, one could add above two statements to find mean\n",
    "mean = sum(r)/len(r)\n",
    "print \"Mean of list r is :\", mean\n"
   ]
  },
  {
   "cell_type": "code",
   "execution_count": 59,
   "metadata": {},
   "outputs": [
    {
     "name": "stdout",
     "output_type": "stream",
     "text": [
      " Appended a new element to r. Now r is : [1.0, 1.5, 2.5, 4]\n"
     ]
    }
   ],
   "source": [
    "# One can add more elements in to a list using the following command\n",
    "r = [1., 1.5, 2.5]\n",
    "r.append(4)\n",
    "print \" Appended a new element to r. Now r is :\", r"
   ]
  },
  {
   "cell_type": "code",
   "execution_count": 60,
   "metadata": {},
   "outputs": [
    {
     "name": "stdout",
     "output_type": "stream",
     "text": [
      "[4, 2.5, 1.5, 1.0]\n"
     ]
    }
   ],
   "source": [
    "r.reverse()\n",
    "print r"
   ]
  },
  {
   "cell_type": "code",
   "execution_count": 61,
   "metadata": {},
   "outputs": [
    {
     "name": "stdout",
     "output_type": "stream",
     "text": [
      "4.0\n",
      "[1.0, 1.5, 2.5]\n"
     ]
    }
   ],
   "source": [
    "# One can remove values from end of a list\n",
    "r = [1., 1.5, 2.5, 4.]\n",
    "print r.pop()\n",
    "print r"
   ]
  },
  {
   "cell_type": "code",
   "execution_count": 63,
   "metadata": {},
   "outputs": [
    {
     "name": "stdout",
     "output_type": "stream",
     "text": [
      "[]\n"
     ]
    }
   ],
   "source": [
    "# Empty list \n",
    "r=[]\n",
    "print r"
   ]
  },
  {
   "cell_type": "code",
   "execution_count": 68,
   "metadata": {},
   "outputs": [
    {
     "ename": "TypeError",
     "evalue": "a float is required",
     "output_type": "error",
     "traceback": [
      "\u001b[0;31m---------------------------------------------------------------------------\u001b[0m",
      "\u001b[0;31mTypeError\u001b[0m                                 Traceback (most recent call last)",
      "\u001b[0;32m<ipython-input-68-7aa590610705>\u001b[0m in \u001b[0;36m<module>\u001b[0;34m()\u001b[0m\n\u001b[1;32m      1\u001b[0m \u001b[0;32mfrom\u001b[0m \u001b[0mmath\u001b[0m \u001b[0;32mimport\u001b[0m \u001b[0msin\u001b[0m\u001b[0;34m\u001b[0m\u001b[0m\n\u001b[1;32m      2\u001b[0m \u001b[0mr\u001b[0m \u001b[0;34m=\u001b[0m\u001b[0;34m[\u001b[0m\u001b[0;36m1.\u001b[0m\u001b[0;34m,\u001b[0m\u001b[0;36m2.\u001b[0m\u001b[0;34m,\u001b[0m\u001b[0;36m3.\u001b[0m\u001b[0;34m]\u001b[0m\u001b[0;34m\u001b[0m\u001b[0m\n\u001b[0;32m----> 3\u001b[0;31m \u001b[0msin\u001b[0m\u001b[0;34m(\u001b[0m\u001b[0mr\u001b[0m\u001b[0;34m)\u001b[0m\u001b[0;34m\u001b[0m\u001b[0m\n\u001b[0m",
      "\u001b[0;31mTypeError\u001b[0m: a float is required"
     ]
    }
   ],
   "source": [
    "from math import sin\n",
    "r =[1.,2.,3.]\n",
    "sin(r)"
   ]
  },
  {
   "cell_type": "code",
   "execution_count": 69,
   "metadata": {},
   "outputs": [
    {
     "data": {
      "text/plain": [
       "[0.0, 0.7071067811865475, 1.0, 0.7071067811865476, 1.2246467991473532e-16]"
      ]
     },
     "execution_count": 69,
     "metadata": {},
     "output_type": "execute_result"
    }
   ],
   "source": [
    "# One can map operations to each elements of a list\n",
    "from math import sin, pi\n",
    "r = [0, pi/4, pi/2, 3*pi/4, pi]\n",
    "map(sin,r)"
   ]
  },
  {
   "cell_type": "code",
   "execution_count": 70,
   "metadata": {},
   "outputs": [
    {
     "name": "stdout",
     "output_type": "stream",
     "text": [
      " a + b =  [0, 1, 2, 1, 1, 1]\n",
      " 3*a = [0, 1, 2, 0, 1, 2, 0, 1, 2]\n"
     ]
    }
   ],
   "source": [
    "# What happens when we add two lists:\n",
    "a = [0,1,2]\n",
    "b = [1,1,1]\n",
    "print \" a + b = \", a+b\n",
    "# What happens when we multiply a list by an integer:\n",
    "print \" 3*a =\", 3*a\n",
    "# You cannot "
   ]
  },
  {
   "cell_type": "code",
   "execution_count": 73,
   "metadata": {},
   "outputs": [
    {
     "name": "stdout",
     "output_type": "stream",
     "text": [
      "[[0, 1, 2], [3, 4, 5]]\n",
      " The 01 and 12 elements are : 1 5\n"
     ]
    }
   ],
   "source": [
    "# Lists can be multidimensional i.e. lists can contain lists.\n",
    "a =[0,1,2]\n",
    "b = [3,4,5]\n",
    "c=[a,b]\n",
    "print c\n",
    "print \" The 01 and 12 elements are :\", c[0][1], c[1][2]"
   ]
  },
  {
   "cell_type": "code",
   "execution_count": 77,
   "metadata": {},
   "outputs": [
    {
     "data": {
      "text/plain": [
       "2"
      ]
     },
     "execution_count": 77,
     "metadata": {},
     "output_type": "execute_result"
    }
   ],
   "source": [
    "c[0][2]"
   ]
  },
  {
   "cell_type": "markdown",
   "metadata": {},
   "source": [
    "#### Arrays\n",
    "\n",
    "Arrays are also an ordered list with the following conditions:\n",
    "\n",
    "1. Number of elements in an array is fixed, *i.e.* you cannot use `append`.\n",
    "\n",
    "* The elements of an array are all of the same type.\n",
    "\n",
    "* Arrays are like vectors or matrices. One can do arithmetic operations on them. \n",
    "\n",
    "* Arrays can have multiple dimensions\n",
    "\n",
    "* Operations on arrays are faster than those on lists.\n",
    "\n",
    "The package `numpy` provides a lot of functions for creation and manipulation of arrays."
   ]
  },
  {
   "cell_type": "code",
   "execution_count": 1,
   "metadata": {},
   "outputs": [],
   "source": [
    "import numpy as np"
   ]
  },
  {
   "cell_type": "code",
   "execution_count": 81,
   "metadata": {},
   "outputs": [
    {
     "data": {
      "text/plain": [
       "array([0, 0, 0])"
      ]
     },
     "execution_count": 81,
     "metadata": {},
     "output_type": "execute_result"
    }
   ],
   "source": [
    "# An array of zeros\n",
    "np.zeros([3],int) \n",
    "# Try the following: (1) remove float (2) replace float by int or complex."
   ]
  },
  {
   "cell_type": "code",
   "execution_count": 84,
   "metadata": {},
   "outputs": [
    {
     "data": {
      "text/plain": [
       "array([[1., 1.],\n",
       "       [1., 1.],\n",
       "       [1., 1.]])"
      ]
     },
     "execution_count": 84,
     "metadata": {},
     "output_type": "execute_result"
    }
   ],
   "source": [
    "# An array of ones\n",
    "np.ones([3,2],float)"
   ]
  },
  {
   "cell_type": "code",
   "execution_count": 85,
   "metadata": {},
   "outputs": [
    {
     "data": {
      "text/plain": [
       "array([4.68708024e-310, 4.68708024e-310, 6.89991215e-310])"
      ]
     },
     "execution_count": 85,
     "metadata": {},
     "output_type": "execute_result"
    }
   ],
   "source": [
    "# An empty array\n",
    "np.empty(3)\n",
    "# It is not really empty, it contains random numbers \n",
    "# littering around in computers memory."
   ]
  },
  {
   "cell_type": "code",
   "execution_count": 91,
   "metadata": {},
   "outputs": [
    {
     "data": {
      "text/plain": [
       "array([1., 2., 3.])"
      ]
     },
     "execution_count": 91,
     "metadata": {},
     "output_type": "execute_result"
    }
   ],
   "source": [
    "# Convert a list to an array\n",
    "r = [1.,2, 3]\n",
    "np.array(r,float)"
   ]
  },
  {
   "cell_type": "code",
   "execution_count": 92,
   "metadata": {},
   "outputs": [
    {
     "name": "stdout",
     "output_type": "stream",
     "text": [
      "[[1. 1. 2.]\n",
      " [1. 2. 3.]\n",
      " [1. 3. 4.]\n",
      " [1. 4. 5.]\n",
      " [1. 5. 6.]]\n"
     ]
    }
   ],
   "source": [
    "# One could create an array by reading data from a file. \n",
    "addition_table=np.loadtxt(\"/home/sreenath/Desktop/sample_data.txt\",float)\n",
    "print addition_table\n",
    "# Note that one need to give the correct location."
   ]
  },
  {
   "cell_type": "markdown",
   "metadata": {},
   "source": [
    "#### Accessing elements in arrays"
   ]
  },
  {
   "cell_type": "code",
   "execution_count": 93,
   "metadata": {},
   "outputs": [
    {
     "name": "stdout",
     "output_type": "stream",
     "text": [
      "(0,2) element is: 2.0\n"
     ]
    }
   ],
   "source": [
    "# To access a single element\n",
    "print \"(0,2) element is:\", addition_table[0,2]"
   ]
  },
  {
   "cell_type": "code",
   "execution_count": 96,
   "metadata": {},
   "outputs": [
    {
     "name": "stdout",
     "output_type": "stream",
     "text": [
      " all elements in the row 1 is :  [1. 2. 3.]\n"
     ]
    }
   ],
   "source": [
    "# To access all elements in a row\n",
    "print \"all elements in the row 1 is : \", addition_table[1,:]"
   ]
  },
  {
   "cell_type": "code",
   "execution_count": 97,
   "metadata": {},
   "outputs": [
    {
     "name": "stdout",
     "output_type": "stream",
     "text": [
      "all elements in the column 2 is :  [2. 3. 4. 5. 6.]\n"
     ]
    }
   ],
   "source": [
    "# To access all elements in a column\n",
    "print \"all elements in the column 2 is : \", addition_table[:,2]"
   ]
  },
  {
   "cell_type": "code",
   "execution_count": 98,
   "metadata": {},
   "outputs": [
    {
     "name": "stdout",
     "output_type": "stream",
     "text": [
      "first three rows and last two columns are:\n",
      "[[1. 2.]\n",
      " [2. 3.]\n",
      " [3. 4.]]\n"
     ]
    }
   ],
   "source": [
    "# To access a portion of the array:\n",
    "print \"first three rows and last two columns are:\"\n",
    "print addition_table[0:3,1:3]\n",
    "# This is known as slicing"
   ]
  },
  {
   "cell_type": "code",
   "execution_count": 99,
   "metadata": {},
   "outputs": [
    {
     "name": "stdout",
     "output_type": "stream",
     "text": [
      "last two columns and rows\n"
     ]
    },
    {
     "data": {
      "text/plain": [
       "array([[4., 5.],\n",
       "       [5., 6.]])"
      ]
     },
     "execution_count": 99,
     "metadata": {},
     "output_type": "execute_result"
    }
   ],
   "source": [
    "# Last two columns and rows\n",
    "print \"last two columns and rows\"\n",
    "addition_table[-2:,-2:]"
   ]
  },
  {
   "cell_type": "markdown",
   "metadata": {},
   "source": [
    "#### Arithmetic with arrays"
   ]
  },
  {
   "cell_type": "code",
   "execution_count": 100,
   "metadata": {},
   "outputs": [
    {
     "name": "stdout",
     "output_type": "stream",
     "text": [
      "[1 2 3]\n",
      "[2 3 4]\n",
      "[2 4 6]\n",
      "[1 3 5]\n",
      "[0.5 1.  1.5]\n"
     ]
    }
   ],
   "source": [
    "# product with scalars\n",
    "a = np.array([1,2,3])\n",
    "print a\n",
    "print a+1\n",
    "print a*2\n",
    "print 2*a -1\n",
    "print a/2."
   ]
  },
  {
   "cell_type": "code",
   "execution_count": 54,
   "metadata": {},
   "outputs": [
    {
     "name": "stdout",
     "output_type": "stream",
     "text": [
      "a = [[2. 3.]\n",
      " [4. 5.]]\n",
      "b = [[1 1]\n",
      " [1 1]]\n",
      "a+b = [[3. 4.]\n",
      " [5. 6.]]\n"
     ]
    }
   ],
   "source": [
    "# Arrays can be added to each other\n",
    "a = np.array([[2,3],[4,5]],float)\n",
    "print \"a =\", a\n",
    "#print \"b=\",b\n",
    "b= np.ones([2,2], int)\n",
    "print \"b =\", b\n",
    "print \"a+b =\",a+b\n"
   ]
  },
  {
   "cell_type": "code",
   "execution_count": 44,
   "metadata": {},
   "outputs": [
    {
     "data": {
      "text/plain": [
       "array([[1., 2.],\n",
       "       [3., 4.]])"
      ]
     },
     "execution_count": 44,
     "metadata": {},
     "output_type": "execute_result"
    }
   ],
   "source": [
    "# arrays can be subtracted \n",
    "a-b"
   ]
  },
  {
   "cell_type": "code",
   "execution_count": 46,
   "metadata": {},
   "outputs": [
    {
     "data": {
      "text/plain": [
       "array([[2., 3.],\n",
       "       [4., 5.]])"
      ]
     },
     "execution_count": 46,
     "metadata": {},
     "output_type": "execute_result"
    }
   ],
   "source": [
    "# arrays can be multiplied : element wis addition\n",
    "a*b"
   ]
  },
  {
   "cell_type": "code",
   "execution_count": 105,
   "metadata": {},
   "outputs": [
    {
     "data": {
      "text/plain": [
       "array([[0.5       , 0.33333333],\n",
       "       [0.25      , 0.2       ]])"
      ]
     },
     "execution_count": 105,
     "metadata": {},
     "output_type": "execute_result"
    }
   ],
   "source": [
    "# arrays can be divided : element wise division\n",
    "b/a"
   ]
  },
  {
   "cell_type": "code",
   "execution_count": 50,
   "metadata": {},
   "outputs": [
    {
     "data": {
      "text/plain": [
       "array([[5., 5.],\n",
       "       [9., 9.]])"
      ]
     },
     "execution_count": 50,
     "metadata": {},
     "output_type": "execute_result"
    }
   ],
   "source": [
    "# To perform matrix multiplication\n",
    "np.dot(a,b)"
   ]
  },
  {
   "cell_type": "markdown",
   "metadata": {},
   "source": [
    "#### Shape and size of an array"
   ]
  },
  {
   "cell_type": "code",
   "execution_count": 55,
   "metadata": {},
   "outputs": [
    {
     "name": "stdout",
     "output_type": "stream",
     "text": [
      "[[2. 3.]\n",
      " [4. 5.]]\n"
     ]
    },
    {
     "data": {
      "text/plain": [
       "4"
      ]
     },
     "execution_count": 55,
     "metadata": {},
     "output_type": "execute_result"
    }
   ],
   "source": [
    "print a\n",
    "a.size"
   ]
  },
  {
   "cell_type": "code",
   "execution_count": 58,
   "metadata": {},
   "outputs": [
    {
     "data": {
      "text/plain": [
       "(2, 2)"
      ]
     },
     "execution_count": 58,
     "metadata": {},
     "output_type": "execute_result"
    }
   ],
   "source": [
    "a.shape"
   ]
  },
  {
   "cell_type": "code",
   "execution_count": 64,
   "metadata": {},
   "outputs": [
    {
     "name": "stdout",
     "output_type": "stream",
     "text": [
      "[[0.97020423 0.00896829 0.74023906 0.6730588  0.09990151]\n",
      " [0.37159001 0.20828277 0.47122424 0.39712888 0.33491136]\n",
      " [0.80880475 0.70538637 0.88052882 0.70376181 0.24893786]]\n",
      "15\n",
      "(3, 5)\n"
     ]
    }
   ],
   "source": [
    "a = np.random.rand(3,5)\n",
    "print a\n",
    "print np.size(a)\n",
    "print np.shape(a)"
   ]
  },
  {
   "cell_type": "code",
   "execution_count": 66,
   "metadata": {},
   "outputs": [
    {
     "data": {
      "text/plain": [
       "array([[0.97020423, 0.00896829, 0.74023906],\n",
       "       [0.6730588 , 0.09990151, 0.37159001],\n",
       "       [0.20828277, 0.47122424, 0.39712888],\n",
       "       [0.33491136, 0.80880475, 0.70538637],\n",
       "       [0.88052882, 0.70376181, 0.24893786]])"
      ]
     },
     "execution_count": 66,
     "metadata": {},
     "output_type": "execute_result"
    }
   ],
   "source": [
    "a.reshape(5,3)"
   ]
  },
  {
   "cell_type": "code",
   "execution_count": 57,
   "metadata": {},
   "outputs": [
    {
     "name": "stdout",
     "output_type": "stream",
     "text": [
      "[[2. 3.]\n",
      " [4. 5.]]\n",
      "5.0\n",
      "2.0\n"
     ]
    }
   ],
   "source": [
    "##### Exercise:\n",
    "#Find out the use of the following functions:\n",
    "print a\n",
    "print np.max(a)   \n",
    "print np.min(a)"
   ]
  },
  {
   "cell_type": "markdown",
   "metadata": {},
   "source": [
    "#### Python treats array names as pointers "
   ]
  },
  {
   "cell_type": "code",
   "execution_count": 67,
   "metadata": {},
   "outputs": [
    {
     "name": "stdout",
     "output_type": "stream",
     "text": [
      "3 2\n"
     ]
    }
   ],
   "source": [
    "# Consider the following example. Is the answer what you had expected?\n",
    "a = 2\n",
    "b = a\n",
    "a = 3\n",
    "print a, b "
   ]
  },
  {
   "cell_type": "code",
   "execution_count": 68,
   "metadata": {},
   "outputs": [
    {
     "name": "stdout",
     "output_type": "stream",
     "text": [
      "[2. 0.]\n",
      "[2. 0.]\n"
     ]
    }
   ],
   "source": [
    "# Now consider the following example. Is the answer what you had expected?\n",
    "a = np.zeros(2)\n",
    "b = a\n",
    "a[0]=2\n",
    "print a\n",
    "print b\n",
    "# i.e. a points to a memory location and when one assigns \n",
    "# b = a, what Python really does is to make b also point to \n",
    "# the same memory location."
   ]
  },
  {
   "cell_type": "code",
   "execution_count": 69,
   "metadata": {},
   "outputs": [
    {
     "name": "stdout",
     "output_type": "stream",
     "text": [
      "[2. 0.]\n",
      "[0. 0.]\n"
     ]
    }
   ],
   "source": [
    "# So, how does one actually make a copy of an array\n",
    "a = np.zeros(2)\n",
    "b = np.copy(a)\n",
    "a[0]=2\n",
    "print a\n",
    "print b"
   ]
  },
  {
   "cell_type": "markdown",
   "metadata": {},
   "source": [
    "#### range and arange operators"
   ]
  },
  {
   "cell_type": "code",
   "execution_count": 71,
   "metadata": {},
   "outputs": [
    {
     "name": "stdout",
     "output_type": "stream",
     "text": [
      "[1, 3, 5, 7, 9]\n",
      "[0, 1, 2, 3, 4, 5, 6, 7, 8, 9, 10]\n"
     ]
    }
   ],
   "source": [
    "# range produces a list\n",
    "print range(1,11,2)# range ( starting number, n+1th number, step size)\n",
    "print range(11) # here starting number is zero, n+1 th number is, step size =1"
   ]
  },
  {
   "cell_type": "code",
   "execution_count": 74,
   "metadata": {},
   "outputs": [
    {
     "data": {
      "text/plain": [
       "array([1. , 1.1, 1.2, 1.3, 1.4, 1.5, 1.6, 1.7, 1.8, 1.9])"
      ]
     },
     "execution_count": 74,
     "metadata": {},
     "output_type": "execute_result"
    }
   ],
   "source": [
    "# arange produces an array\n",
    "np.arange(1.,2.,.1)# add float or complex"
   ]
  },
  {
   "cell_type": "markdown",
   "metadata": {},
   "source": [
    "### for loop"
   ]
  },
  {
   "cell_type": "code",
   "execution_count": 78,
   "metadata": {},
   "outputs": [
    {
     "name": "stdout",
     "output_type": "stream",
     "text": [
      "2 * 1 = 2\n",
      "2 * 2 = 4\n",
      "2 * 3 = 6\n",
      "2 * 4 = 8\n"
     ]
    }
   ],
   "source": [
    "# Print out the multiplication table for 2 :\n",
    "for i in np.array([1,2,3,4]):\n",
    "    print \"2 *\",i,\"=\",2*i"
   ]
  },
  {
   "cell_type": "markdown",
   "metadata": {},
   "source": [
    "### User defined function\n",
    "\n",
    "Often there will be steps in calculation that we want to repeat several number of times. To saveeffort and readability of the code, one can write them as functions."
   ]
  },
  {
   "cell_type": "code",
   "execution_count": 93,
   "metadata": {},
   "outputs": [],
   "source": [
    "# Function to compute factorial\n",
    "def factorial(n):\n",
    "    f =1.0\n",
    "    for k in range(1,n+1):\n",
    "        f*=k\n",
    "    return f"
   ]
  },
  {
   "cell_type": "code",
   "execution_count": 94,
   "metadata": {},
   "outputs": [
    {
     "data": {
      "text/plain": [
       "120.0"
      ]
     },
     "execution_count": 94,
     "metadata": {},
     "output_type": "execute_result"
    }
   ],
   "source": [
    "factorial(5)"
   ]
  },
  {
   "cell_type": "markdown",
   "metadata": {},
   "source": [
    "##### Exercise : Pascal's triangle :\n",
    "\n",
    "   a. Write a function `binomial(n,k)` to compute binomial \n",
    "    coefficient. Make sure to return answers as integer. \n",
    "    Make sure that it gives $1$ for `k=0`.\n",
    "    \n",
    "   b. Print out first 10 lines of Pascals triangle \n",
    "    i.e n$_{\\rm th}$ line will contain binomial(n,0), \n",
    "    binomial(n,1), ..., binomial(n,n).\n",
    "    \n",
    "   c. Probability of obtaining k heads in n tosses is \n",
    "    `binomial(n,k)/2**n`. Write a program to calculate \n",
    "    probability of obtaining 40 heads in 100 tosses. \n",
    "    Write a program to calculate 40 or more heads in \n",
    "    100 tosses. "
   ]
  },
  {
   "cell_type": "code",
   "execution_count": 8,
   "metadata": {},
   "outputs": [],
   "source": [
    "# Write the solution here!\n"
   ]
  },
  {
   "cell_type": "code",
   "execution_count": 10,
   "metadata": {},
   "outputs": [
    {
     "name": "stdout",
     "output_type": "stream",
     "text": [
      "1 1 \n",
      "1 2 1 \n",
      "1 3 3 1 \n",
      "1 4 6 4 1 \n",
      "1 5 10 10 5 1 \n",
      "1 6 15 20 15 6 1 \n",
      "1 7 21 35 35 21 7 1 \n",
      "1 8 28 56 70 56 28 8 1 \n",
      "1 9 36 84 126 126 84 36 9 1 \n",
      "1 10 45 120 210 252 210 120 45 10 1 \n"
     ]
    }
   ],
   "source": []
  },
  {
   "cell_type": "code",
   "execution_count": 16,
   "metadata": {},
   "outputs": [
    {
     "name": "stdin",
     "output_type": "stream",
     "text": [
      "Number of heads = 40\n",
      "Number of tosses = 100\n"
     ]
    },
    {
     "name": "stdout",
     "output_type": "stream",
     "text": [
      "Probability of obtaining 40 or more heads from 100 tosses is 0.982399899891\n"
     ]
    }
   ],
   "source": []
  },
  {
   "cell_type": "code",
   "execution_count": 19,
   "metadata": {},
   "outputs": [],
   "source": []
  },
  {
   "cell_type": "markdown",
   "metadata": {},
   "source": [
    "##### Exercise : Prime numbers :\n",
    "\n",
    "1. Write a function to compute whether a number is prime or not. \n",
    "\n",
    "2. Use that function to print all primes less than a number n. "
   ]
  },
  {
   "cell_type": "code",
   "execution_count": 32,
   "metadata": {},
   "outputs": [],
   "source": []
  },
  {
   "cell_type": "code",
   "execution_count": null,
   "metadata": {},
   "outputs": [],
   "source": []
  },
  {
   "cell_type": "markdown",
   "metadata": {},
   "source": [
    "#### Some more details about lists and arrays"
   ]
  },
  {
   "cell_type": "code",
   "execution_count": 16,
   "metadata": {},
   "outputs": [
    {
     "name": "stdout",
     "output_type": "stream",
     "text": [
      "[1.0, 2, (3+5j)]\n"
     ]
    }
   ],
   "source": [
    "a_list=[1.,2, 3+5j]\n",
    "print a_list"
   ]
  },
  {
   "cell_type": "code",
   "execution_count": 17,
   "metadata": {},
   "outputs": [],
   "source": [
    "an_array=np.array([1.,2,3+5j])"
   ]
  },
  {
   "cell_type": "code",
   "execution_count": 20,
   "metadata": {},
   "outputs": [
    {
     "data": {
      "text/plain": [
       "array([1.+0.j, 2.+0.j, 3.+5.j, 4.+0.j])"
      ]
     },
     "execution_count": 20,
     "metadata": {},
     "output_type": "execute_result"
    }
   ],
   "source": [
    "an_array=np.array([1.,2,3+5j,4.])\n",
    "an_array"
   ]
  },
  {
   "cell_type": "code",
   "execution_count": 21,
   "metadata": {},
   "outputs": [],
   "source": [
    "# We can append to a list\n",
    "a_list.append(5)"
   ]
  },
  {
   "cell_type": "code",
   "execution_count": 22,
   "metadata": {},
   "outputs": [
    {
     "data": {
      "text/plain": [
       "[1.0, 2, (3+5j), 5]"
      ]
     },
     "execution_count": 22,
     "metadata": {},
     "output_type": "execute_result"
    }
   ],
   "source": [
    "a_list"
   ]
  },
  {
   "cell_type": "code",
   "execution_count": 23,
   "metadata": {},
   "outputs": [
    {
     "ename": "TypeError",
     "evalue": "can only concatenate list (not \"int\") to list",
     "output_type": "error",
     "traceback": [
      "\u001b[0;31m---------------------------------------------------------------------------\u001b[0m",
      "\u001b[0;31mTypeError\u001b[0m                                 Traceback (most recent call last)",
      "\u001b[0;32m<ipython-input-23-7bc5ee530d8a>\u001b[0m in \u001b[0;36m<module>\u001b[0;34m()\u001b[0m\n\u001b[0;32m----> 1\u001b[0;31m \u001b[0ma_list\u001b[0m\u001b[0;34m+\u001b[0m\u001b[0;36m1\u001b[0m\u001b[0;34m\u001b[0m\u001b[0m\n\u001b[0m",
      "\u001b[0;31mTypeError\u001b[0m: can only concatenate list (not \"int\") to list"
     ]
    }
   ],
   "source": [
    "#One cannot add a number to a list\n",
    "a_list+1"
   ]
  },
  {
   "cell_type": "code",
   "execution_count": 24,
   "metadata": {},
   "outputs": [
    {
     "data": {
      "text/plain": [
       "array([2.+0.j, 3.+0.j, 4.+5.j, 5.+0.j])"
      ]
     },
     "execution_count": 24,
     "metadata": {},
     "output_type": "execute_result"
    }
   ],
   "source": [
    "# One can add a number to an array\n",
    "an_array+1."
   ]
  },
  {
   "cell_type": "code",
   "execution_count": 27,
   "metadata": {},
   "outputs": [
    {
     "data": {
      "text/plain": [
       "[1.0, 2, (3+5j), 5, 1.0, 2, (3+5j), 5]"
      ]
     },
     "execution_count": 27,
     "metadata": {},
     "output_type": "execute_result"
    }
   ],
   "source": [
    "2*a_list"
   ]
  },
  {
   "cell_type": "code",
   "execution_count": 29,
   "metadata": {},
   "outputs": [
    {
     "name": "stdout",
     "output_type": "stream",
     "text": [
      "[1.+0.j 2.+0.j 3.+5.j 4.+0.j]\n"
     ]
    },
    {
     "data": {
      "text/plain": [
       "array([0.5+0.j , 1. +0.j , 1.5+2.5j, 2. +0.j ])"
      ]
     },
     "execution_count": 29,
     "metadata": {},
     "output_type": "execute_result"
    }
   ],
   "source": [
    "print an_array\n",
    "an_array/2"
   ]
  },
  {
   "cell_type": "code",
   "execution_count": 83,
   "metadata": {},
   "outputs": [],
   "source": [
    "position = np.array([2,3,0.])\n",
    "velocity = np.array([1,1,1.])"
   ]
  },
  {
   "cell_type": "code",
   "execution_count": 84,
   "metadata": {},
   "outputs": [
    {
     "data": {
      "text/plain": [
       "5.0"
      ]
     },
     "execution_count": 84,
     "metadata": {},
     "output_type": "execute_result"
    }
   ],
   "source": [
    "#v dot r\n",
    "np.dot(position,velocity)"
   ]
  },
  {
   "cell_type": "code",
   "execution_count": 85,
   "metadata": {},
   "outputs": [
    {
     "name": "stdout",
     "output_type": "stream",
     "text": [
      "5.0\n"
     ]
    }
   ],
   "source": [
    "# It is possible to perform vector operation using lists. \n",
    "# But operation using arrays are faster(as I will show below)\n",
    "# v dot r using list\n",
    "position_list = [2.,3.,0]\n",
    "velocity_list = [1.,1.,1.]\n",
    "a=0.\n",
    "for i in range(len(position_list)):\n",
    "    a+=position_list[i]*velocity_list[i]\n",
    "print a"
   ]
  },
  {
   "cell_type": "code",
   "execution_count": 92,
   "metadata": {},
   "outputs": [
    {
     "data": {
      "text/plain": [
       "array([3., 4., 1.])"
      ]
     },
     "execution_count": 92,
     "metadata": {},
     "output_type": "execute_result"
    }
   ],
   "source": [
    "position+velocity"
   ]
  },
  {
   "cell_type": "markdown",
   "metadata": {},
   "source": [
    "### Miscellanious"
   ]
  },
  {
   "cell_type": "markdown",
   "metadata": {},
   "source": [
    "#### Variables and ranges\n",
    "\n",
    "One cannot store arbitrarily large numbers. For floats largest number possible is roughly $\\pm 1.e308$ (corresponding to $2^{1024}$). When it is larger than this number, we call it an *overflow*. A complex type also has this limit for both real and imaginary parts. Smallest number possible is roughly $10^{-308}$. When the number is smaller, then it is called an *underflow*.\n",
    "Python can store any number of digits for an integer. However larger the number, slower the operation and more the memory needed. Result of an overflow is `inf` and that of an underflow is `0.0`."
   ]
  },
  {
   "cell_type": "code",
   "execution_count": 1,
   "metadata": {},
   "outputs": [
    {
     "name": "stdout",
     "output_type": "stream",
     "text": [
      "inf\n",
      "0.0\n"
     ]
    }
   ],
   "source": [
    "x=1.e309\n",
    "print x\n",
    "x = 1.e-330\n",
    "print x"
   ]
  },
  {
   "cell_type": "code",
   "execution_count": 4,
   "metadata": {},
   "outputs": [
    {
     "name": "stdout",
     "output_type": "stream",
     "text": [
      "0.346006155014\n"
     ]
    }
   ],
   "source": [
    "# operations with large integers take time\n",
    "import time as time\n",
    "start = time.time()\n",
    "2**100000000\n",
    "end  = time.time()\n",
    "print end-start"
   ]
  },
  {
   "cell_type": "markdown",
   "metadata": {},
   "source": [
    "#### A note when using `==` condition\n",
    "\n",
    "Python will round off digits. Hence two numbers may never be exactly equal. \n",
    "Because of this reason one should not use equality of two numbers as a condition for `if` statement. "
   ]
  },
  {
   "cell_type": "code",
   "execution_count": 6,
   "metadata": {},
   "outputs": [
    {
     "name": "stdout",
     "output_type": "stream",
     "text": [
      "0.2 0.3 0.4 0.5 0.6 0.7 0.8 0.9 1.0 1.1 1.2\n"
     ]
    }
   ],
   "source": [
    "x=0.1\n",
    "for i in range(11):\n",
    "    x +=0.1\n",
    "    if x==0.8:\n",
    "        print \"We have reached x =\",x\n",
    "    print x,"
   ]
  },
  {
   "cell_type": "code",
   "execution_count": 172,
   "metadata": {},
   "outputs": [
    {
     "name": "stdout",
     "output_type": "stream",
     "text": [
      "0.2 0.3 0.4 0.5 0.6 0.7 We have reached x = 0.8\n",
      "0.8 0.9 1.0 1.1 1.2\n"
     ]
    }
   ],
   "source": [
    "# If one indeed wants to do this check, then check their equality up to an error `eps`.\n",
    "x=0.1\n",
    "eps = 1.e-6\n",
    "for i in range(11):\n",
    "    x +=0.1\n",
    "    if np.abs(x-0.8) < 1.e-6:\n",
    "        print \"We have reached x =\",x\n",
    "    print x,"
   ]
  },
  {
   "cell_type": "markdown",
   "metadata": {},
   "source": [
    "#### Round off error "
   ]
  },
  {
   "cell_type": "code",
   "execution_count": 7,
   "metadata": {},
   "outputs": [
    {
     "name": "stdout",
     "output_type": "stream",
     "text": [
      "2.22044604925\n",
      "1.41421356237\n"
     ]
    }
   ],
   "source": [
    "from math import sqrt\n",
    "x = 1.\n",
    "y = 1. + 1.e-16*sqrt(2)\n",
    "print 1.e16*(y-x)\n",
    "print sqrt(2)\n",
    "# Second print statement is correct value pi. \n",
    "#Python keeps only 16 significant digits. Hence, \n",
    "#in the first print statement, the answer is correct \n",
    "# only to first two significant digits. "
   ]
  },
  {
   "cell_type": "markdown",
   "metadata": {},
   "source": [
    "#### Formatting in print statement"
   ]
  },
  {
   "cell_type": "code",
   "execution_count": 10,
   "metadata": {},
   "outputs": [
    {
     "name": "stdout",
     "output_type": "stream",
     "text": [
      "2 is not equal to 3.5\n"
     ]
    }
   ],
   "source": [
    "print \"{0} is not equal to {1:.1f}\".format(2,3.4526)"
   ]
  },
  {
   "cell_type": "markdown",
   "metadata": {},
   "source": [
    "#### Program speed\n",
    "\n",
    "In general a computer can do a million arithmetic operations with in a second. For a billion operation, it will take few minutes to hours. This is still doable. Beyond that one needs more powerful computers."
   ]
  },
  {
   "cell_type": "code",
   "execution_count": 13,
   "metadata": {},
   "outputs": [
    {
     "name": "stdout",
     "output_type": "stream",
     "text": [
      "9.43891000748\n"
     ]
    }
   ],
   "source": [
    "import numpy as np\n",
    "start = time.time()\n",
    "sum(np.arange(1.e8))\n",
    "end = time.time()\n",
    "print end-start"
   ]
  },
  {
   "cell_type": "markdown",
   "metadata": {},
   "source": [
    "#### Power of vectorization"
   ]
  },
  {
   "cell_type": "code",
   "execution_count": 14,
   "metadata": {},
   "outputs": [
    {
     "name": "stdout",
     "output_type": "stream",
     "text": [
      "2499475.876180908\n",
      "2.10702896118\n"
     ]
    }
   ],
   "source": [
    "# v dot r using list\n",
    "position_list = list(np.random.rand(10000000))\n",
    "velocity_list = list(np.random.rand(10000000))\n",
    "a=0.\n",
    "start = time.time()\n",
    "for i in range(len(position_list)):\n",
    "    a+=position_list[i]*velocity_list[i]\n",
    "end = time.time()\n",
    "print a\n",
    "print end-start"
   ]
  },
  {
   "cell_type": "code",
   "execution_count": 15,
   "metadata": {},
   "outputs": [
    {
     "name": "stdout",
     "output_type": "stream",
     "text": [
      "2499388.605330687\n",
      "0.0104489326477\n"
     ]
    }
   ],
   "source": [
    "position = np.random.rand(10000000)\n",
    "velocity = np.random.rand(10000000)\n",
    "start = time.time()\n",
    "a = np.dot(position,velocity)\n",
    "end = time.time()\n",
    "print a\n",
    "print end - start"
   ]
  },
  {
   "cell_type": "code",
   "execution_count": null,
   "metadata": {},
   "outputs": [],
   "source": []
  },
  {
   "cell_type": "code",
   "execution_count": null,
   "metadata": {},
   "outputs": [],
   "source": []
  }
 ],
 "metadata": {
  "kernelspec": {
   "display_name": "Python 2",
   "language": "python",
   "name": "python2"
  },
  "language_info": {
   "codemirror_mode": {
    "name": "ipython",
    "version": 2
   },
   "file_extension": ".py",
   "mimetype": "text/x-python",
   "name": "python",
   "nbconvert_exporter": "python",
   "pygments_lexer": "ipython2",
   "version": "2.7.15"
  }
 },
 "nbformat": 4,
 "nbformat_minor": 2
}
