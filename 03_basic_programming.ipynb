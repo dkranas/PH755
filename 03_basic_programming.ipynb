{
 "cells": [
  {
   "cell_type": "markdown",
   "metadata": {},
   "source": [
    "# Introduction to Python"
   ]
  },
  {
   "cell_type": "markdown",
   "metadata": {},
   "source": [
    "In this notebook, we will learn some basics of programming using Python.\n",
    "\n",
    "A program consists of a list of instructions or statements which the computer will execute one by one. The following sections introduce various types of statements in the Python language."
   ]
  },
  {
   "cell_type": "markdown",
   "metadata": {},
   "source": [
    "### Variables and Assignments"
   ]
  },
  {
   "cell_type": "code",
   "execution_count": null,
   "metadata": {},
   "outputs": [],
   "source": [
    "# Assignment statement: i.e. assign a value to a variable. Eg.\n",
    "x = 1\n",
    "# The above statement tells the computer that there is a variable x which has value 1."
   ]
  },
  {
   "cell_type": "markdown",
   "metadata": {},
   "source": [
    "#### Rules in naming variables\n",
    "\n",
    "1. Variables can contain alphabets, '_' and numbers.\n",
    "2. Variables cannot start with a number\n",
    "\n",
    "Eg. : abc, star_123, _xft etc. are valid variables. \n",
    "\n",
    "While doing Physics problems, the code becomes more readable if we use variables such as 'angular_momentum', 'velocity_initial' etc."
   ]
  },
  {
   "cell_type": "markdown",
   "metadata": {},
   "source": [
    "### Variable types\n",
    "\n",
    "1. Integers : 0, 1, 2345, -7862\n",
    "2. Float : 3.14159, -1.0, -6.63e-34\n",
    "3. Complex : 1 + 2j, -3.5 -0.8j"
   ]
  },
  {
   "cell_type": "code",
   "execution_count": null,
   "metadata": {},
   "outputs": [],
   "source": [
    "#Integers\n",
    "-3496"
   ]
  },
  {
   "cell_type": "code",
   "execution_count": null,
   "metadata": {},
   "outputs": [],
   "source": [
    "#Float\n",
    "-6.63e-3"
   ]
  },
  {
   "cell_type": "code",
   "execution_count": null,
   "metadata": {},
   "outputs": [],
   "source": [
    "# Complex\n",
    "-1. + 3.4j"
   ]
  },
  {
   "cell_type": "markdown",
   "metadata": {},
   "source": [
    "Note that:\n",
    "\n",
    "* Type of variable is set by the value assigned to it\n",
    "* Storage size used by these variables types are different. \n",
    "\n",
    "\n",
    "Another variable type:\n",
    "\n",
    "* String: \n",
    "\n",
    "x = \"This is a string\"\n",
    "Strings are a set of characters. Even numbers can be a string. Eg:- x = \"1.453\". In this example, x does not represent a number, but a set of symbols  which are numbers and a decimal."
   ]
  },
  {
   "cell_type": "markdown",
   "metadata": {},
   "source": [
    "### Output and Input Statement\n",
    "\n",
    "Out put statement is `print` and input statement is `input`"
   ]
  },
  {
   "cell_type": "code",
   "execution_count": null,
   "metadata": {},
   "outputs": [],
   "source": [
    "\n",
    "x = 1\n",
    "print x\n",
    "# If you are using Python 3, print is a function and hence so you should write print(x). "
   ]
  },
  {
   "cell_type": "code",
   "execution_count": null,
   "metadata": {},
   "outputs": [],
   "source": [
    "y =5.6\n",
    "print x, y"
   ]
  },
  {
   "cell_type": "code",
   "execution_count": null,
   "metadata": {},
   "outputs": [],
   "source": [
    "thevalueof = \"The value of\"\n",
    "print thevalueof, \"x is\", x, \"and\", thevalueof,\"y is\", y"
   ]
  },
  {
   "cell_type": "code",
   "execution_count": null,
   "metadata": {},
   "outputs": [],
   "source": [
    "thevalueof = \"The square of\"\n",
    "print thevalueof, \"x is\", x*x, \"and\", thevalueof,\"y is\", y*y"
   ]
  },
  {
   "cell_type": "code",
   "execution_count": null,
   "metadata": {},
   "outputs": [],
   "source": [
    "#input statement\n",
    "x = input(\"Enter the value of x\")\n",
    "print x"
   ]
  },
  {
   "cell_type": "code",
   "execution_count": null,
   "metadata": {},
   "outputs": [],
   "source": [
    "x = input(\"Enter the value of x:\")\n",
    "print x"
   ]
  },
  {
   "cell_type": "code",
   "execution_count": null,
   "metadata": {},
   "outputs": [],
   "source": [
    "temp = input(\"Enter the value of x :\")\n",
    "print \"The value of temp is :\", temp\n",
    "x=int(temp)\n",
    "print \"The value of x is :\", x\n",
    "# Run this code and give temp = \"0.5\", i.e. as a string. Observe the output. \n",
    "# Now rerun the code by changing `float` in the third line to `complex` and \n",
    "#`int` and see what happens."
   ]
  },
  {
   "cell_type": "code",
   "execution_count": null,
   "metadata": {},
   "outputs": [],
   "source": [
    "x=\"5\"\n",
    "int(x)"
   ]
  },
  {
   "cell_type": "markdown",
   "metadata": {},
   "source": [
    "### Arithmetic"
   ]
  },
  {
   "cell_type": "code",
   "execution_count": null,
   "metadata": {},
   "outputs": [],
   "source": [
    "x =4\n",
    "y = 2"
   ]
  },
  {
   "cell_type": "code",
   "execution_count": null,
   "metadata": {},
   "outputs": [],
   "source": [
    "# Addition\n",
    "x+y"
   ]
  },
  {
   "cell_type": "code",
   "execution_count": null,
   "metadata": {},
   "outputs": [],
   "source": [
    "# Subtraction\n",
    "x-y"
   ]
  },
  {
   "cell_type": "code",
   "execution_count": null,
   "metadata": {},
   "outputs": [],
   "source": [
    "# Multiplication\n",
    "x*y"
   ]
  },
  {
   "cell_type": "code",
   "execution_count": null,
   "metadata": {},
   "outputs": [],
   "source": [
    "# Division\n",
    "x/y"
   ]
  },
  {
   "cell_type": "code",
   "execution_count": null,
   "metadata": {},
   "outputs": [],
   "source": [
    "# Raising x to the power y\n",
    "x**y"
   ]
  },
  {
   "cell_type": "code",
   "execution_count": null,
   "metadata": {},
   "outputs": [],
   "source": [
    "# Integer division\n",
    "# As noted above, when we divide two integers, \n",
    "# the result gets rounded down to its nearest integer.\n",
    "x=14.\n",
    "y=3\n",
    "x//y"
   ]
  },
  {
   "cell_type": "code",
   "execution_count": null,
   "metadata": {},
   "outputs": [],
   "source": [
    "#Modulo operator\n",
    "x=15\n",
    "y=4\n",
    "x%y\n",
    "\n",
    "# This operator can be used to find for instance \n",
    "# whether a number is even or odd."
   ]
  },
  {
   "cell_type": "markdown",
   "metadata": {},
   "source": [
    "#### Combining mathematical operators\n",
    "\n",
    "`x + 2*y`    is equivalent to    $x + 2y$\n",
    "\n",
    "`x - y/2`    is equivalent to    $x - y/2$\n",
    "\n",
    "`3*x**2`    is equivalent to   $3*x^2$\n",
    "\n",
    "`x/2*y`    is equivalent to $\\frac{1}{2}x y$\n",
    "\n",
    "One can also use brackets to separate out operators. Eg:- Note the difference\n",
    "\n",
    "`x = a + b/c`\n",
    "\n",
    "`x = (a +b)/c`\n",
    "\n",
    "`x = a + 2*b - 0.5*(1.5**c + 2/7)`\n",
    "\n",
    "Also note that, operations are only allowed on right side, not on the left side. Eg:-\n",
    "\n",
    "`2*x = y`\n",
    "\n",
    "is not allowed."
   ]
  },
  {
   "cell_type": "code",
   "execution_count": null,
   "metadata": {},
   "outputs": [],
   "source": [
    "2*x = y"
   ]
  },
  {
   "cell_type": "code",
   "execution_count": null,
   "metadata": {},
   "outputs": [],
   "source": [
    "# Note that \n",
    "x = 1\n",
    "# is an assignment, not an equation. \n",
    "# One can also do\n",
    "x = x + 1\n",
    "print x\n",
    "# Mathematically the above statement does not make much sense."
   ]
  },
  {
   "cell_type": "markdown",
   "metadata": {},
   "source": [
    "#### Python modifiers\n",
    "\n",
    "`x+=1`    add 1 to x and assign it to x\n",
    "\n",
    "`x-=2`    subtract 2 from x and assign it to x\n",
    "\n",
    "`x *= -1.5' multipy x by -1.5 and assign it to x\n",
    "\n",
    "`x /= 3*x`  divide by $3\\times x$ and assign it to x\n",
    "\n",
    "'x //=1.4`    divide by 1.4 and round down to a whole number and assign it to x"
   ]
  },
  {
   "cell_type": "code",
   "execution_count": null,
   "metadata": {},
   "outputs": [],
   "source": [
    "x = 3\n",
    "x += 2\n",
    "print x"
   ]
  },
  {
   "cell_type": "markdown",
   "metadata": {},
   "source": [
    "### Importing functions from packages"
   ]
  },
  {
   "cell_type": "code",
   "execution_count": null,
   "metadata": {},
   "outputs": [],
   "source": [
    "x = 10\n",
    "log(x)"
   ]
  },
  {
   "cell_type": "code",
   "execution_count": null,
   "metadata": {},
   "outputs": [],
   "source": [
    "from math import log\n",
    "x = log(x)\n",
    "print x"
   ]
  },
  {
   "cell_type": "code",
   "execution_count": null,
   "metadata": {},
   "outputs": [],
   "source": [
    "from math import log10\n",
    "x = 10\n",
    "print log10(x)"
   ]
  },
  {
   "cell_type": "markdown",
   "metadata": {},
   "source": [
    "`math` package will allow us to use many such functions:\n",
    "\n",
    "`log`, `log10`, `exp`, `sin`, `cos`, `tan`, `asin`, `acos`, `atan`, `sinh`, `cosh`, `tanh`, `sqrt`\n"
   ]
  },
  {
   "cell_type": "code",
   "execution_count": null,
   "metadata": {},
   "outputs": [],
   "source": [
    "# It also gives you the value of pi\n",
    "from math import pi\n",
    "print pi"
   ]
  },
  {
   "cell_type": "markdown",
   "metadata": {},
   "source": [
    "If you want you can import more than one function in single line\n",
    "\n",
    "`from math import log, sin, cos`\n",
    "\n",
    "will load three functions simultaneously. \n",
    "There are many other useful packages. You can look up the package `numpy` ."
   ]
  },
  {
   "cell_type": "markdown",
   "metadata": {},
   "source": [
    "### Modules\n",
    "Sometimes, packages contain modules which contain a \n",
    "particular set of functions. For instance, numpy contains \n",
    "a linear algebra module which contains a lot of functions \n",
    "such as inverse."
   ]
  },
  {
   "cell_type": "code",
   "execution_count": null,
   "metadata": {},
   "outputs": [],
   "source": [
    "import numpy.linalg as linalg"
   ]
  },
  {
   "cell_type": "markdown",
   "metadata": {},
   "source": [
    "### Summary : An example program"
   ]
  },
  {
   "cell_type": "code",
   "execution_count": null,
   "metadata": {},
   "outputs": [],
   "source": [
    "from math import sin, cos, pi\n",
    "# Ask the user to enter values for radius and angle\n",
    "r = input(\"Enter r = \")\n",
    "degree = input(\"Enter theta in degrees =\")\n",
    "\n",
    "# Covert degree to radians\n",
    "\n",
    "theta = degree*pi/180\n",
    "\n",
    "# Convert (r, theta) to equivalent cartesian coordinates\n",
    "\n",
    "x = r*cos(theta)\n",
    "y = r*sin(theta)\n",
    "\n",
    "# Output results\n",
    "\n",
    "print \"x=\", x, \"and y=\", y"
   ]
  },
  {
   "cell_type": "markdown",
   "metadata": {},
   "source": [
    "### Controlling programs with **if** and **while**"
   ]
  },
  {
   "cell_type": "markdown",
   "metadata": {},
   "source": [
    "#### The if statement\n",
    "\n",
    "The `if` statement executes an expression only if certain condition is satisfied. It has the format\n",
    "\n",
    "```\n",
    "if condition :\n",
    "       instruction 1\n",
    "       \n",
    "       instruction 2\n",
    "       \n",
    "       ...\n",
    "       \n",
    "       instruction n\n",
    "```\n",
    "Note the semicolon and the indent. It tells the code which part should be evaluated when the condition is satisfied.\n",
    "\n",
    "Conditions are of various types:\n",
    "\n",
    "* `if x==1`   => Chack if $x=1$. Note the two equal signs\n",
    "\n",
    "* `if x>1`\n",
    "\n",
    "* `if x>=1`\n",
    "\n",
    "* `if x<1`\n",
    "\n",
    "* `if x<=1`\n",
    "\n",
    "* `if x!=1`    => Check if $x \\neq 1$\n"
   ]
  },
  {
   "cell_type": "code",
   "execution_count": null,
   "metadata": {},
   "outputs": [],
   "source": [
    "# A program to alert the user when they enter a number larger than 10\n",
    "\n",
    "x = int(input(\"Enter a whole number less than or equal to 10: \"))\n",
    "if x>10:\n",
    "    print \"You entered a number larger than 10.\"\n",
    "    print \"Re-assigning the number as 10!\"\n",
    "    x = 10\n",
    "print \"The number you entered is :\", x"
   ]
  },
  {
   "cell_type": "markdown",
   "metadata": {},
   "source": [
    "#### Relational operators\n",
    "` >, <, ==, >=, <=, !=` are relational operators. Their anser is `True` or `False`.\n",
    "\n",
    "#### Boolean operators in python\n",
    "1. and\n",
    "2. or\n",
    "3. not"
   ]
  },
  {
   "cell_type": "code",
   "execution_count": null,
   "metadata": {},
   "outputs": [],
   "source": [
    "x=20\n",
    "y=30\n",
    "x/y == 0 "
   ]
  },
  {
   "cell_type": "code",
   "execution_count": null,
   "metadata": {},
   "outputs": [],
   "source": [
    "x>0  and y>0"
   ]
  },
  {
   "cell_type": "code",
   "execution_count": null,
   "metadata": {},
   "outputs": [],
   "source": [
    "x>0 or y<10"
   ]
  },
  {
   "cell_type": "code",
   "execution_count": null,
   "metadata": {},
   "outputs": [],
   "source": [
    "not(x>0 and y>0)"
   ]
  },
  {
   "cell_type": "code",
   "execution_count": null,
   "metadata": {},
   "outputs": [],
   "source": [
    "# One can use more than one conditions in if statement\n",
    "x = input(\"enter x between 1 and 10:\")\n",
    "if x>10 or x<1:\n",
    "    print \"Number is out of bound\""
   ]
  },
  {
   "cell_type": "markdown",
   "metadata": {},
   "source": [
    "#### if - elif - else"
   ]
  },
  {
   "cell_type": "code",
   "execution_count": null,
   "metadata": {},
   "outputs": [],
   "source": [
    "x = input(\"enter x:\")\n",
    "if x> 10:\n",
    "    print \"x is greater than 10\"\n",
    "elif x<1:\n",
    "    print \"x is less than 1\" \n",
    "else:\n",
    "    print \"Number is in the required range\""
   ]
  },
  {
   "cell_type": "markdown",
   "metadata": {},
   "source": [
    "#### The while statement"
   ]
  },
  {
   "cell_type": "code",
   "execution_count": null,
   "metadata": {},
   "outputs": [],
   "source": [
    "# Program to count backwards\n",
    "x = input(\"Enter a number:\")\n",
    "while x>0:\n",
    "    x -=1\n",
    "    print x, #'comma' causes print to print in same line. \n",
    "print \".\"\n",
    "print \"Finished counting backwards\"\n",
    "# To print in same line in python 3 use print(x, end=\" \")"
   ]
  },
  {
   "cell_type": "markdown",
   "metadata": {},
   "source": [
    "#### Break and continue"
   ]
  },
  {
   "cell_type": "code",
   "execution_count": null,
   "metadata": {},
   "outputs": [],
   "source": [
    "# Enter password\n",
    "x=\"abc\"\n",
    "while x!=\"PH755\":\n",
    "    x = input(\"Enter password in quotes:\")\n",
    "    if x==\"PH755\":\n",
    "        print \"Welcome!\"\n",
    "    if x==\"quit\":\n",
    "        break\n",
    "    print \"Enter 'quit' to exit\""
   ]
  },
  {
   "cell_type": "code",
   "execution_count": null,
   "metadata": {},
   "outputs": [],
   "source": [
    "# Print positive odd numbers less than a number\n",
    "x=int(input(\"Enter a number :\"))\n",
    "while x>0:\n",
    "    if x%2 !=0:\n",
    "        x -=1\n",
    "        continue # skips a step in the while loop\n",
    "        print x\n",
    "    else:\n",
    "        x-=1\n",
    "        print x,"
   ]
  },
  {
   "cell_type": "code",
   "execution_count": null,
   "metadata": {},
   "outputs": [],
   "source": [
    "# Fibonacci sequence\n",
    "f1 = 1\n",
    "f2 = 1\n",
    "next = f1 + f2\n",
    "while f1 <=1000:\n",
    "    print f1,\n",
    "    f1 = f2\n",
    "    f2 = next\n",
    "    next = f1+f2"
   ]
  },
  {
   "cell_type": "markdown",
   "metadata": {},
   "source": [
    "##### Exercise : Catalan numbers\n",
    "The Catalan numbers $C_n$ are a sequence of integers that play an important role in quantum mechanics and theory of disordered systems. For more information, see this [wiki page](https://en.wikipedia.org/wiki/Catalan_number). They are given by\n",
    "$$ C_0 = 1$$\n",
    "$$ C_{n+1} = \\frac{4 n + 2}{n+2}C_n$$\n",
    "Write a program that prints in increasing order all Catalan numbers less than or equal to one billion."
   ]
  },
  {
   "cell_type": "code",
   "execution_count": null,
   "metadata": {},
   "outputs": [],
   "source": [
    "# Write your solution here!\n"
   ]
  },
  {
   "cell_type": "markdown",
   "metadata": {},
   "source": [
    "### Lists and Arrays\n",
    "\n",
    "Variables store single values. Often we would want to store a set of values. Eg:- In three dimensions, position vector ${\\bf r}$ is a list of three numbers. We would also want to work with matrices. \n",
    "\n",
    "For this purpose, Python provides objects known as *containers*. We will deal with lists and arrays."
   ]
  },
  {
   "cell_type": "markdown",
   "metadata": {},
   "source": [
    "#### Lists"
   ]
  },
  {
   "cell_type": "code",
   "execution_count": null,
   "metadata": {},
   "outputs": [],
   "source": [
    "# List is a collection of quantities\n",
    "[1,2,3]"
   ]
  },
  {
   "cell_type": "code",
   "execution_count": null,
   "metadata": {},
   "outputs": [],
   "source": [
    "# Not all elements in a list need to be of same type. \n",
    "[1,2.,3. +4j,\"a\"]\n",
    "# However, in most cases elements of a list will be of same type."
   ]
  },
  {
   "cell_type": "code",
   "execution_count": null,
   "metadata": {},
   "outputs": [],
   "source": [
    "# a variable can be set equal to a list\n",
    "r = [1,2,3]\n",
    "r"
   ]
  },
  {
   "cell_type": "code",
   "execution_count": null,
   "metadata": {},
   "outputs": [],
   "source": [
    "# One can constitute a list using variables\n",
    "x, y, z = 2, 3, 4\n",
    "r = [x**2, y**2, z**2]\n",
    "print r"
   ]
  },
  {
   "cell_type": "code",
   "execution_count": null,
   "metadata": {},
   "outputs": [],
   "source": [
    "# Elements in a list can be accessed as follows:\n",
    "print r\n",
    "print r[0], r[1], r[2]\n",
    "print r[-1], r[-2], r[-3]\n",
    "print r[0:2]"
   ]
  },
  {
   "cell_type": "code",
   "execution_count": null,
   "metadata": {},
   "outputs": [],
   "source": [
    "# One can also change elements of a list\n",
    "r[1]=0\n",
    "r"
   ]
  },
  {
   "cell_type": "markdown",
   "metadata": {},
   "source": [
    "##### Trivia \n",
    "\n",
    "The `In` and `Out` written in front of each cell is a list. Try it out."
   ]
  },
  {
   "cell_type": "code",
   "execution_count": null,
   "metadata": {},
   "outputs": [],
   "source": []
  },
  {
   "cell_type": "code",
   "execution_count": null,
   "metadata": {},
   "outputs": [],
   "source": [
    "# One can apply certain operations on entire list. Eg:-\n",
    "r = [1., 1.5, 2.5]\n",
    "print \"r = \", r\n",
    "print \"sum of r is :\", sum(r) # adds all elements\n",
    "# length of a list\n",
    "print \"Number of elements in r is\", len(r)\n",
    "# So, one could add above two statements to find mean\n",
    "mean = sum(r)/len(r)\n",
    "print \"Mean of list r is :\", mean\n"
   ]
  },
  {
   "cell_type": "code",
   "execution_count": null,
   "metadata": {},
   "outputs": [],
   "source": [
    "# One can add more elements in to a list using the following command\n",
    "r = [1., 1.5, 2.5]\n",
    "r.append(4)\n",
    "print \" Appended a new element to r. Now r is :\", r"
   ]
  },
  {
   "cell_type": "code",
   "execution_count": null,
   "metadata": {},
   "outputs": [],
   "source": [
    "# One can remove values from end of a list\n",
    "r = [1., 1.5, 2.5, 4.]\n",
    "print r.pop()\n",
    "print r"
   ]
  },
  {
   "cell_type": "code",
   "execution_count": null,
   "metadata": {},
   "outputs": [],
   "source": [
    "# Empty list \n",
    "r=[]\n",
    "print r"
   ]
  },
  {
   "cell_type": "code",
   "execution_count": null,
   "metadata": {},
   "outputs": [],
   "source": [
    "# One can map operations to each elements of a list\n",
    "from math import sin, pi\n",
    "r = [0, pi/4, pi/2, 3*pi/4, pi]\n",
    "map(sin,r)"
   ]
  },
  {
   "cell_type": "code",
   "execution_count": null,
   "metadata": {},
   "outputs": [],
   "source": [
    "# What happens when we add two lists:\n",
    "a = [0,1,2]\n",
    "b = [1,1,1]\n",
    "print \" a + b = \", a+b\n",
    "# What happens when we multiply a list by an integer:\n",
    "print \" 3*a =\", 3*a\n",
    "# You cannot "
   ]
  },
  {
   "cell_type": "code",
   "execution_count": null,
   "metadata": {},
   "outputs": [],
   "source": [
    "# Lists can be multidimensional i.e. lists can contain lists.\n",
    "b = [3,4,5]\n",
    "c=[a,b]\n",
    "print c\n",
    "print \" The 01 and 12 elements are :\", c[0][1], c[1][2]"
   ]
  },
  {
   "cell_type": "markdown",
   "metadata": {},
   "source": [
    "#### Arrays\n",
    "\n",
    "Arrays are also an ordered list with the following conditions:\n",
    "\n",
    "1. Number of elements in an array is fixed, *i.e.* you cannot use `append`.\n",
    "\n",
    "* The elements of an array are all of the same type.\n",
    "\n",
    "* Arrays are like vectors or matrices. One can do arithmetic operations on them. \n",
    "\n",
    "* Arrays can have multiple dimensions\n",
    "\n",
    "* Operations on arrays are faster than those on lists.\n",
    "\n",
    "The package `numpy` provides a lot of functions for creation and manipulation of arrays."
   ]
  },
  {
   "cell_type": "code",
   "execution_count": null,
   "metadata": {},
   "outputs": [],
   "source": [
    "import numpy as np"
   ]
  },
  {
   "cell_type": "code",
   "execution_count": null,
   "metadata": {},
   "outputs": [],
   "source": [
    "# An array of zeros\n",
    "np.zeros([2,3],float) \n",
    "# Try the following: (1) remove float (2) replace float by int or complex."
   ]
  },
  {
   "cell_type": "code",
   "execution_count": null,
   "metadata": {},
   "outputs": [],
   "source": [
    "# An array of ones\n",
    "np.ones([3,2],complex)"
   ]
  },
  {
   "cell_type": "code",
   "execution_count": null,
   "metadata": {},
   "outputs": [],
   "source": [
    "# An empty array\n",
    "np.empty(3)\n",
    "# It is not really empty, it contains random numbers \n",
    "# littering around in computers memory."
   ]
  },
  {
   "cell_type": "code",
   "execution_count": null,
   "metadata": {},
   "outputs": [],
   "source": [
    "# Convert a list to an array\n",
    "np.array([1.,2.,3.],int)"
   ]
  },
  {
   "cell_type": "code",
   "execution_count": null,
   "metadata": {},
   "outputs": [],
   "source": [
    "# One could create an array by reading data from a file. \n",
    "addition_table=np.loadtxt(\"/home/sreenath/Desktop/sample_data.txt\",float)\n",
    "print addition_table\n",
    "# Note that one need to give the correct location."
   ]
  },
  {
   "cell_type": "markdown",
   "metadata": {},
   "source": [
    "#### Accessing elements in arrays"
   ]
  },
  {
   "cell_type": "code",
   "execution_count": null,
   "metadata": {},
   "outputs": [],
   "source": [
    "# To access a single element\n",
    "print \"(0,2) element is:\", addition_table[0,2]"
   ]
  },
  {
   "cell_type": "code",
   "execution_count": null,
   "metadata": {},
   "outputs": [],
   "source": [
    "# To access all elements in a row\n",
    "print \"all elements in the row 1 is : \", addition_table[1,:]"
   ]
  },
  {
   "cell_type": "code",
   "execution_count": null,
   "metadata": {},
   "outputs": [],
   "source": [
    "# To access all elements in a column\n",
    "print \"all elements in the column 2 is : \", addition_table[:,2]"
   ]
  },
  {
   "cell_type": "code",
   "execution_count": null,
   "metadata": {},
   "outputs": [],
   "source": [
    "# To access a portion of the array:\n",
    "print \"first three rows and last two columns are:\"\n",
    "print addition_table[0:3,1:3]\n",
    "# This is known as slicing"
   ]
  },
  {
   "cell_type": "code",
   "execution_count": null,
   "metadata": {},
   "outputs": [],
   "source": [
    "# Last two columns and rows\n",
    "print \"last two columns and rows\"\n",
    "addition_table[-2:,-2:]"
   ]
  },
  {
   "cell_type": "markdown",
   "metadata": {},
   "source": [
    "#### Arithmetic with arrays"
   ]
  },
  {
   "cell_type": "code",
   "execution_count": null,
   "metadata": {},
   "outputs": [],
   "source": [
    "# product with scalars\n",
    "a = np.array([1,2,3])\n",
    "print a\n",
    "print a+1\n",
    "print a*2\n",
    "print 2*a -1\n",
    "print a/2."
   ]
  },
  {
   "cell_type": "code",
   "execution_count": null,
   "metadata": {},
   "outputs": [],
   "source": [
    "# Arrays can be added to each other\n",
    "a = np.array([[2,3],[4,5]],float)\n",
    "b= np.ones([2,2], int)\n",
    "a+b"
   ]
  },
  {
   "cell_type": "code",
   "execution_count": null,
   "metadata": {},
   "outputs": [],
   "source": [
    "# arrays can be subtracted \n",
    "a-b"
   ]
  },
  {
   "cell_type": "code",
   "execution_count": null,
   "metadata": {},
   "outputs": [],
   "source": [
    "# arrays can be multiplied : element wis addition\n",
    "a*b"
   ]
  },
  {
   "cell_type": "code",
   "execution_count": null,
   "metadata": {},
   "outputs": [],
   "source": [
    "# arrays can be divided : element wise division\n",
    "b/a"
   ]
  },
  {
   "cell_type": "code",
   "execution_count": null,
   "metadata": {},
   "outputs": [],
   "source": [
    "# To perform matrix multiplication\n",
    "np.dot(a,b)"
   ]
  },
  {
   "cell_type": "markdown",
   "metadata": {},
   "source": [
    "#### Shape and size of an array"
   ]
  },
  {
   "cell_type": "code",
   "execution_count": null,
   "metadata": {},
   "outputs": [],
   "source": [
    "a.size"
   ]
  },
  {
   "cell_type": "code",
   "execution_count": null,
   "metadata": {},
   "outputs": [],
   "source": [
    "a.shape"
   ]
  },
  {
   "cell_type": "code",
   "execution_count": null,
   "metadata": {},
   "outputs": [],
   "source": [
    "##### Exercise:\n",
    "#Find out the use of the following functions:\n",
    "print a\n",
    "print np.max(a)   \n",
    "print np.min(a)"
   ]
  },
  {
   "cell_type": "markdown",
   "metadata": {},
   "source": [
    "#### Python treats array names as pointers "
   ]
  },
  {
   "cell_type": "code",
   "execution_count": null,
   "metadata": {},
   "outputs": [],
   "source": [
    "# Consider the following example. Is the answer what you had expected?\n",
    "a = 2\n",
    "b = a\n",
    "a = 3\n",
    "print a, b "
   ]
  },
  {
   "cell_type": "code",
   "execution_count": null,
   "metadata": {},
   "outputs": [],
   "source": [
    "# Now consider the following example. Is the answer what you had expected?\n",
    "a = np.zeros(2)\n",
    "b = a\n",
    "a[0]=2\n",
    "print a\n",
    "print b\n",
    "# i.e. a points to a memory location and when one assigns \n",
    "# b = a, what Python really does is to make b also point to \n",
    "# the same memory location."
   ]
  },
  {
   "cell_type": "code",
   "execution_count": null,
   "metadata": {},
   "outputs": [],
   "source": [
    "# So, how does one actually make a copy of an array\n",
    "a = np.zeros(2)\n",
    "b = np.copy(a)\n",
    "a[0]=2\n",
    "print a\n",
    "print b"
   ]
  },
  {
   "cell_type": "markdown",
   "metadata": {},
   "source": [
    "#### range and arange operators"
   ]
  },
  {
   "cell_type": "code",
   "execution_count": null,
   "metadata": {},
   "outputs": [],
   "source": [
    "# range produces a list\n",
    "print range(11)\n",
    "range(1,11,2)"
   ]
  },
  {
   "cell_type": "code",
   "execution_count": null,
   "metadata": {},
   "outputs": [],
   "source": [
    "# arange produces an array\n",
    "np.arange(1,11,2)# add float or complex"
   ]
  },
  {
   "cell_type": "markdown",
   "metadata": {},
   "source": [
    "### for loop"
   ]
  },
  {
   "cell_type": "code",
   "execution_count": null,
   "metadata": {},
   "outputs": [],
   "source": [
    "# Print out the multiplication table for 2 :\n",
    "for i in range(11):\n",
    "    print \"2 *\",i,\"=\",2*i"
   ]
  },
  {
   "cell_type": "markdown",
   "metadata": {},
   "source": [
    "### User defined function\n",
    "\n",
    "Often there will be steps in calculation that we want to repeat several number of times. To saveeffort and readability of the code, one can write them as functions."
   ]
  },
  {
   "cell_type": "code",
   "execution_count": null,
   "metadata": {},
   "outputs": [],
   "source": [
    "# Function to compute factorial\n",
    "def factorial(n):\n",
    "    f =1.0\n",
    "    for k in range(1,n+1):\n",
    "        f*=k\n",
    "    return f"
   ]
  },
  {
   "cell_type": "code",
   "execution_count": null,
   "metadata": {},
   "outputs": [],
   "source": [
    "factorial(5)"
   ]
  },
  {
   "cell_type": "markdown",
   "metadata": {},
   "source": [
    "##### Exercise : Pascal's triangle :\n",
    "\n",
    "   a. Write a function `binomial(n,k)` to compute binomial \n",
    "    coefficient. Make sure to return answers as integer. \n",
    "    Make sure that it gives $1$ for `k=0`.\n",
    "    \n",
    "   b. Print out first 10 lines of Pascals triangle \n",
    "    i.e n$_{\\rm th}$ line will contain binomial(n,0), \n",
    "    binomial(n,1), ..., binomial(n,n).\n",
    "    \n",
    "   c. Probability of obtaining k heads in n tosses is \n",
    "    `binomial(n,k)/2**n`. Write a program to calculate \n",
    "    probability of obtaining 40 heads in 100 tosses. \n",
    "    Write a program to calculate 40 or more heads in \n",
    "    100 tosses. "
   ]
  },
  {
   "cell_type": "code",
   "execution_count": null,
   "metadata": {},
   "outputs": [],
   "source": [
    "# Write the solution here!\n"
   ]
  },
  {
   "cell_type": "markdown",
   "metadata": {},
   "source": [
    "##### Exercise : Prime numbers :\n",
    "\n",
    "1. Write a function to compute whether a number is prime or not. \n",
    "\n",
    "2. Use that function to print all primes less than a number n. "
   ]
  },
  {
   "cell_type": "code",
   "execution_count": null,
   "metadata": {},
   "outputs": [],
   "source": [
    "# Write the solution here!\n"
   ]
  },
  {
   "cell_type": "code",
   "execution_count": null,
   "metadata": {},
   "outputs": [],
   "source": []
  }
 ],
 "metadata": {
  "kernelspec": {
   "display_name": "Python 2",
   "language": "python",
   "name": "python2"
  },
  "language_info": {
   "codemirror_mode": {
    "name": "ipython",
    "version": 2
   },
   "file_extension": ".py",
   "mimetype": "text/x-python",
   "name": "python",
   "nbconvert_exporter": "python",
   "pygments_lexer": "ipython2",
   "version": "2.7.15"
  }
 },
 "nbformat": 4,
 "nbformat_minor": 2
}
